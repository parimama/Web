{
  "nbformat": 4,
  "nbformat_minor": 0,
  "metadata": {
    "colab": {
      "provenance": [],
      "include_colab_link": true
    },
    "kernelspec": {
      "name": "python3",
      "display_name": "Python 3"
    },
    "language_info": {
      "name": "python"
    }
  },
  "cells": [
    {
      "cell_type": "markdown",
      "metadata": {
        "id": "view-in-github",
        "colab_type": "text"
      },
      "source": [
        "<a href=\"https://colab.research.google.com/github/parimama/Web/blob/main/dissolved_oxygen.ipynb\" target=\"_parent\"><img src=\"https://colab.research.google.com/assets/colab-badge.svg\" alt=\"Open In Colab\"/></a>"
      ]
    },
    {
      "cell_type": "markdown",
      "source": [
        "#**[Predicting Future Water Quality with Machine Learning](https://www.sciencebuddies.org/science-fair-projects/project-ideas/ArtificialIntelligence_p019/artificial-intelligence/dissolved_oxygen)**\n",
        "\n",
        "This notebook was developed by Science Buddies [www.sciencebuddies.org](https://www.sciencebuddies.org/) as part of a science project to allow students to explore and learn about artificial intelligence. For personal use, this notebook can be downloaded and modified with attribution. For all other uses, please see our [Terms and Conditions of Fair Use](https://www.sciencebuddies.org/about/terms-and-conditions-of-fair-use).  \n",
        "\n",
        "**Troubleshooting tips**\n",
        "*   Read the written instructions at Science Buddies and the text and comments on this page carefully.\n",
        "*   If you make changes that break the code, you can download a fresh copy of this notebook and start over.\n",
        "\n",
        "*   If you are using this notebook for a science project and need help, visit our [Ask an Expert](https://www.sciencebuddies.org/science-fair-projects/ask-an-expert-intro) forum for assistance."
      ],
      "metadata": {
        "id": "HyVcHd0Vojm7"
      }
    },
    {
      "cell_type": "markdown",
      "source": [
        "## **How To Use This Notebook**\n",
        "\n",
        "This notebook contains text fields, like this one, that give you information about the project and instructions."
      ],
      "metadata": {
        "id": "FoaYR4P0oxUk"
      }
    },
    {
      "cell_type": "code",
      "source": [
        "# There are also code blocks, like this one.\n",
        "\n",
        "# The green text in a code block are comments. Comments are descriptions of what the code does.\n",
        "\n",
        "# The non-green text in a code block is the Python code. Click on the triangle in the top left corner to run this code block.\n",
        "\n",
        "print(\"Congratulations, you ran a code block! Try changing the text in the code and running it again.\")"
      ],
      "metadata": {
        "id": "ERU4aP8AoyHe",
        "colab": {
          "base_uri": "https://localhost:8080/"
        },
        "outputId": "ef56027e-5139-4090-8a3f-77859219baed"
      },
      "execution_count": 1,
      "outputs": [
        {
          "output_type": "stream",
          "name": "stdout",
          "text": [
            "Congratulations, you ran a code block! Try changing the text in the code and running it again.\n"
          ]
        }
      ]
    },
    {
      "cell_type": "markdown",
      "source": [
        "# Importing Libraries"
      ],
      "metadata": {
        "id": "2YQ9TAHlgwSn"
      }
    },
    {
      "cell_type": "code",
      "execution_count": 6,
      "metadata": {
        "id": "ap2--thogs0a"
      },
      "outputs": [],
      "source": [
        "# Data manipulation and analysis\n",
        "import pandas as pd\n",
        "import numpy as np\n",
        "from collections import Counter\n",
        "\n",
        "# Visualization\n",
        "import matplotlib.pyplot as plt\n",
        "import graphviz\n",
        "from IPython.display import display, HTML\n",
        "\n",
        "# Scikit-learn: Model selection and evaluation\n",
        "from sklearn.model_selection import train_test_split\n",
        "\n",
        "# Scikit-learn: Regression models\n",
        "from sklearn.ensemble import RandomForestRegressor\n",
        "\n",
        "# Scikit-learn: Metrics for evaluation\n",
        "from sklearn.metrics import accuracy_score, classification_report, confusion_matrix\n",
        "from sklearn.metrics import mean_squared_error, r2_score\n",
        "\n",
        "# Scikit-learn: Tree visualization\n",
        "from sklearn.tree import export_graphviz\n",
        "from sklearn import tree"
      ]
    },
    {
      "cell_type": "markdown",
      "source": [
        "# 3. Loading the Data into a Pandas DataFrame"
      ],
      "metadata": {
        "id": "FQI82urahE8R"
      }
    },
    {
      "cell_type": "markdown",
      "source": [
        "Code Block 3A"
      ],
      "metadata": {
        "id": "y9tzDDn1fhC_"
      }
    },
    {
      "cell_type": "code",
      "source": [
        "from google.colab import drive\n",
        "\n",
        "# Mount Google Drive\n",
        "drive.mount('/content/drive')"
      ],
      "metadata": {
        "id": "t-Q3Z4Ybfj2b",
        "colab": {
          "base_uri": "https://localhost:8080/"
        },
        "outputId": "e5bd79a8-69c9-4037-a69c-4d35435ac4d3"
      },
      "execution_count": 7,
      "outputs": [
        {
          "output_type": "stream",
          "name": "stdout",
          "text": [
            "Mounted at /content/drive\n"
          ]
        }
      ]
    },
    {
      "cell_type": "markdown",
      "source": [
        "Code Block 3B"
      ],
      "metadata": {
        "id": "Pan1CQqPd7lf"
      }
    },
    {
      "source": [
        "import pandas as pd\n",
        "\n",
        "# Replace 'your_shareable_link' with the actual link you copied\n",
        "url = 'https://drive.google.com/file/d/1LkiCaTLJ6AHFVjqXyCgAEmCiPu7CsOgc/view?usp=drive_link'\n",
        "file_id = url.split('/')[-2]  # Extract the file ID from the URL\n",
        "dwn_url='https://drive.google.com/uc?id=' + file_id\n",
        "df = pd.read_csv(dwn_url)\n",
        "\n",
        "df.head()"
      ],
      "cell_type": "code",
      "metadata": {
        "colab": {
          "base_uri": "https://localhost:8080/",
          "height": 206
        },
        "id": "A8y1LPPdNAA0",
        "outputId": "7eaa7e27-913c-47d4-afeb-598226564317"
      },
      "execution_count": 8,
      "outputs": [
        {
          "output_type": "execute_result",
          "data": {
            "text/plain": [
              "         date     Ave DO    Ave pH    Ave Tem  Ave turbidity      Ave SC  \\\n",
              "0  2025-01-01   9.448913  7.551087  11.252174     135.213043  136.340659   \n",
              "1  2025-01-02   9.464583  7.500000  10.741667     115.646875  135.291667   \n",
              "2  2025-01-03   9.654167  7.525000  10.285417      78.769792  146.270833   \n",
              "3  2025-01-04   9.970833  7.600000  10.129167      59.884375  151.197917   \n",
              "4  2025-01-05  10.001042  7.600000  10.317708      49.003125  154.302083   \n",
              "\n",
              "    Ave DO+1   Ave DO+7  Ave DO+30  \n",
              "0   9.467391  10.426087  11.309783  \n",
              "1   9.654167  10.442708  11.317708  \n",
              "2   9.970833  10.507527  11.307292  \n",
              "3  10.001042  10.586957  11.300000  \n",
              "4   9.906522  10.767368  11.230208  "
            ],
            "text/html": [
              "\n",
              "  <div id=\"df-3791caab-ab7a-4923-be61-584c9d077578\" class=\"colab-df-container\">\n",
              "    <div>\n",
              "<style scoped>\n",
              "    .dataframe tbody tr th:only-of-type {\n",
              "        vertical-align: middle;\n",
              "    }\n",
              "\n",
              "    .dataframe tbody tr th {\n",
              "        vertical-align: top;\n",
              "    }\n",
              "\n",
              "    .dataframe thead th {\n",
              "        text-align: right;\n",
              "    }\n",
              "</style>\n",
              "<table border=\"1\" class=\"dataframe\">\n",
              "  <thead>\n",
              "    <tr style=\"text-align: right;\">\n",
              "      <th></th>\n",
              "      <th>date</th>\n",
              "      <th>Ave DO</th>\n",
              "      <th>Ave pH</th>\n",
              "      <th>Ave Tem</th>\n",
              "      <th>Ave turbidity</th>\n",
              "      <th>Ave SC</th>\n",
              "      <th>Ave DO+1</th>\n",
              "      <th>Ave DO+7</th>\n",
              "      <th>Ave DO+30</th>\n",
              "    </tr>\n",
              "  </thead>\n",
              "  <tbody>\n",
              "    <tr>\n",
              "      <th>0</th>\n",
              "      <td>2025-01-01</td>\n",
              "      <td>9.448913</td>\n",
              "      <td>7.551087</td>\n",
              "      <td>11.252174</td>\n",
              "      <td>135.213043</td>\n",
              "      <td>136.340659</td>\n",
              "      <td>9.467391</td>\n",
              "      <td>10.426087</td>\n",
              "      <td>11.309783</td>\n",
              "    </tr>\n",
              "    <tr>\n",
              "      <th>1</th>\n",
              "      <td>2025-01-02</td>\n",
              "      <td>9.464583</td>\n",
              "      <td>7.500000</td>\n",
              "      <td>10.741667</td>\n",
              "      <td>115.646875</td>\n",
              "      <td>135.291667</td>\n",
              "      <td>9.654167</td>\n",
              "      <td>10.442708</td>\n",
              "      <td>11.317708</td>\n",
              "    </tr>\n",
              "    <tr>\n",
              "      <th>2</th>\n",
              "      <td>2025-01-03</td>\n",
              "      <td>9.654167</td>\n",
              "      <td>7.525000</td>\n",
              "      <td>10.285417</td>\n",
              "      <td>78.769792</td>\n",
              "      <td>146.270833</td>\n",
              "      <td>9.970833</td>\n",
              "      <td>10.507527</td>\n",
              "      <td>11.307292</td>\n",
              "    </tr>\n",
              "    <tr>\n",
              "      <th>3</th>\n",
              "      <td>2025-01-04</td>\n",
              "      <td>9.970833</td>\n",
              "      <td>7.600000</td>\n",
              "      <td>10.129167</td>\n",
              "      <td>59.884375</td>\n",
              "      <td>151.197917</td>\n",
              "      <td>10.001042</td>\n",
              "      <td>10.586957</td>\n",
              "      <td>11.300000</td>\n",
              "    </tr>\n",
              "    <tr>\n",
              "      <th>4</th>\n",
              "      <td>2025-01-05</td>\n",
              "      <td>10.001042</td>\n",
              "      <td>7.600000</td>\n",
              "      <td>10.317708</td>\n",
              "      <td>49.003125</td>\n",
              "      <td>154.302083</td>\n",
              "      <td>9.906522</td>\n",
              "      <td>10.767368</td>\n",
              "      <td>11.230208</td>\n",
              "    </tr>\n",
              "  </tbody>\n",
              "</table>\n",
              "</div>\n",
              "    <div class=\"colab-df-buttons\">\n",
              "\n",
              "  <div class=\"colab-df-container\">\n",
              "    <button class=\"colab-df-convert\" onclick=\"convertToInteractive('df-3791caab-ab7a-4923-be61-584c9d077578')\"\n",
              "            title=\"Convert this dataframe to an interactive table.\"\n",
              "            style=\"display:none;\">\n",
              "\n",
              "  <svg xmlns=\"http://www.w3.org/2000/svg\" height=\"24px\" viewBox=\"0 -960 960 960\">\n",
              "    <path d=\"M120-120v-720h720v720H120Zm60-500h600v-160H180v160Zm220 220h160v-160H400v160Zm0 220h160v-160H400v160ZM180-400h160v-160H180v160Zm440 0h160v-160H620v160ZM180-180h160v-160H180v160Zm440 0h160v-160H620v160Z\"/>\n",
              "  </svg>\n",
              "    </button>\n",
              "\n",
              "  <style>\n",
              "    .colab-df-container {\n",
              "      display:flex;\n",
              "      gap: 12px;\n",
              "    }\n",
              "\n",
              "    .colab-df-convert {\n",
              "      background-color: #E8F0FE;\n",
              "      border: none;\n",
              "      border-radius: 50%;\n",
              "      cursor: pointer;\n",
              "      display: none;\n",
              "      fill: #1967D2;\n",
              "      height: 32px;\n",
              "      padding: 0 0 0 0;\n",
              "      width: 32px;\n",
              "    }\n",
              "\n",
              "    .colab-df-convert:hover {\n",
              "      background-color: #E2EBFA;\n",
              "      box-shadow: 0px 1px 2px rgba(60, 64, 67, 0.3), 0px 1px 3px 1px rgba(60, 64, 67, 0.15);\n",
              "      fill: #174EA6;\n",
              "    }\n",
              "\n",
              "    .colab-df-buttons div {\n",
              "      margin-bottom: 4px;\n",
              "    }\n",
              "\n",
              "    [theme=dark] .colab-df-convert {\n",
              "      background-color: #3B4455;\n",
              "      fill: #D2E3FC;\n",
              "    }\n",
              "\n",
              "    [theme=dark] .colab-df-convert:hover {\n",
              "      background-color: #434B5C;\n",
              "      box-shadow: 0px 1px 3px 1px rgba(0, 0, 0, 0.15);\n",
              "      filter: drop-shadow(0px 1px 2px rgba(0, 0, 0, 0.3));\n",
              "      fill: #FFFFFF;\n",
              "    }\n",
              "  </style>\n",
              "\n",
              "    <script>\n",
              "      const buttonEl =\n",
              "        document.querySelector('#df-3791caab-ab7a-4923-be61-584c9d077578 button.colab-df-convert');\n",
              "      buttonEl.style.display =\n",
              "        google.colab.kernel.accessAllowed ? 'block' : 'none';\n",
              "\n",
              "      async function convertToInteractive(key) {\n",
              "        const element = document.querySelector('#df-3791caab-ab7a-4923-be61-584c9d077578');\n",
              "        const dataTable =\n",
              "          await google.colab.kernel.invokeFunction('convertToInteractive',\n",
              "                                                    [key], {});\n",
              "        if (!dataTable) return;\n",
              "\n",
              "        const docLinkHtml = 'Like what you see? Visit the ' +\n",
              "          '<a target=\"_blank\" href=https://colab.research.google.com/notebooks/data_table.ipynb>data table notebook</a>'\n",
              "          + ' to learn more about interactive tables.';\n",
              "        element.innerHTML = '';\n",
              "        dataTable['output_type'] = 'display_data';\n",
              "        await google.colab.output.renderOutput(dataTable, element);\n",
              "        const docLink = document.createElement('div');\n",
              "        docLink.innerHTML = docLinkHtml;\n",
              "        element.appendChild(docLink);\n",
              "      }\n",
              "    </script>\n",
              "  </div>\n",
              "\n",
              "\n",
              "    <div id=\"df-483e29ed-7f13-4bbd-b297-feb8129ee602\">\n",
              "      <button class=\"colab-df-quickchart\" onclick=\"quickchart('df-483e29ed-7f13-4bbd-b297-feb8129ee602')\"\n",
              "                title=\"Suggest charts\"\n",
              "                style=\"display:none;\">\n",
              "\n",
              "<svg xmlns=\"http://www.w3.org/2000/svg\" height=\"24px\"viewBox=\"0 0 24 24\"\n",
              "     width=\"24px\">\n",
              "    <g>\n",
              "        <path d=\"M19 3H5c-1.1 0-2 .9-2 2v14c0 1.1.9 2 2 2h14c1.1 0 2-.9 2-2V5c0-1.1-.9-2-2-2zM9 17H7v-7h2v7zm4 0h-2V7h2v10zm4 0h-2v-4h2v4z\"/>\n",
              "    </g>\n",
              "</svg>\n",
              "      </button>\n",
              "\n",
              "<style>\n",
              "  .colab-df-quickchart {\n",
              "      --bg-color: #E8F0FE;\n",
              "      --fill-color: #1967D2;\n",
              "      --hover-bg-color: #E2EBFA;\n",
              "      --hover-fill-color: #174EA6;\n",
              "      --disabled-fill-color: #AAA;\n",
              "      --disabled-bg-color: #DDD;\n",
              "  }\n",
              "\n",
              "  [theme=dark] .colab-df-quickchart {\n",
              "      --bg-color: #3B4455;\n",
              "      --fill-color: #D2E3FC;\n",
              "      --hover-bg-color: #434B5C;\n",
              "      --hover-fill-color: #FFFFFF;\n",
              "      --disabled-bg-color: #3B4455;\n",
              "      --disabled-fill-color: #666;\n",
              "  }\n",
              "\n",
              "  .colab-df-quickchart {\n",
              "    background-color: var(--bg-color);\n",
              "    border: none;\n",
              "    border-radius: 50%;\n",
              "    cursor: pointer;\n",
              "    display: none;\n",
              "    fill: var(--fill-color);\n",
              "    height: 32px;\n",
              "    padding: 0;\n",
              "    width: 32px;\n",
              "  }\n",
              "\n",
              "  .colab-df-quickchart:hover {\n",
              "    background-color: var(--hover-bg-color);\n",
              "    box-shadow: 0 1px 2px rgba(60, 64, 67, 0.3), 0 1px 3px 1px rgba(60, 64, 67, 0.15);\n",
              "    fill: var(--button-hover-fill-color);\n",
              "  }\n",
              "\n",
              "  .colab-df-quickchart-complete:disabled,\n",
              "  .colab-df-quickchart-complete:disabled:hover {\n",
              "    background-color: var(--disabled-bg-color);\n",
              "    fill: var(--disabled-fill-color);\n",
              "    box-shadow: none;\n",
              "  }\n",
              "\n",
              "  .colab-df-spinner {\n",
              "    border: 2px solid var(--fill-color);\n",
              "    border-color: transparent;\n",
              "    border-bottom-color: var(--fill-color);\n",
              "    animation:\n",
              "      spin 1s steps(1) infinite;\n",
              "  }\n",
              "\n",
              "  @keyframes spin {\n",
              "    0% {\n",
              "      border-color: transparent;\n",
              "      border-bottom-color: var(--fill-color);\n",
              "      border-left-color: var(--fill-color);\n",
              "    }\n",
              "    20% {\n",
              "      border-color: transparent;\n",
              "      border-left-color: var(--fill-color);\n",
              "      border-top-color: var(--fill-color);\n",
              "    }\n",
              "    30% {\n",
              "      border-color: transparent;\n",
              "      border-left-color: var(--fill-color);\n",
              "      border-top-color: var(--fill-color);\n",
              "      border-right-color: var(--fill-color);\n",
              "    }\n",
              "    40% {\n",
              "      border-color: transparent;\n",
              "      border-right-color: var(--fill-color);\n",
              "      border-top-color: var(--fill-color);\n",
              "    }\n",
              "    60% {\n",
              "      border-color: transparent;\n",
              "      border-right-color: var(--fill-color);\n",
              "    }\n",
              "    80% {\n",
              "      border-color: transparent;\n",
              "      border-right-color: var(--fill-color);\n",
              "      border-bottom-color: var(--fill-color);\n",
              "    }\n",
              "    90% {\n",
              "      border-color: transparent;\n",
              "      border-bottom-color: var(--fill-color);\n",
              "    }\n",
              "  }\n",
              "</style>\n",
              "\n",
              "      <script>\n",
              "        async function quickchart(key) {\n",
              "          const quickchartButtonEl =\n",
              "            document.querySelector('#' + key + ' button');\n",
              "          quickchartButtonEl.disabled = true;  // To prevent multiple clicks.\n",
              "          quickchartButtonEl.classList.add('colab-df-spinner');\n",
              "          try {\n",
              "            const charts = await google.colab.kernel.invokeFunction(\n",
              "                'suggestCharts', [key], {});\n",
              "          } catch (error) {\n",
              "            console.error('Error during call to suggestCharts:', error);\n",
              "          }\n",
              "          quickchartButtonEl.classList.remove('colab-df-spinner');\n",
              "          quickchartButtonEl.classList.add('colab-df-quickchart-complete');\n",
              "        }\n",
              "        (() => {\n",
              "          let quickchartButtonEl =\n",
              "            document.querySelector('#df-483e29ed-7f13-4bbd-b297-feb8129ee602 button');\n",
              "          quickchartButtonEl.style.display =\n",
              "            google.colab.kernel.accessAllowed ? 'block' : 'none';\n",
              "        })();\n",
              "      </script>\n",
              "    </div>\n",
              "\n",
              "    </div>\n",
              "  </div>\n"
            ],
            "application/vnd.google.colaboratory.intrinsic+json": {
              "type": "dataframe",
              "variable_name": "df",
              "summary": "{\n  \"name\": \"df\",\n  \"rows\": 89,\n  \"fields\": [\n    {\n      \"column\": \"date\",\n      \"properties\": {\n        \"dtype\": \"object\",\n        \"num_unique_values\": 89,\n        \"samples\": [\n          \"2025-02-14\",\n          \"2025-02-23\",\n          \"2025-01-31\"\n        ],\n        \"semantic_type\": \"\",\n        \"description\": \"\"\n      }\n    },\n    {\n      \"column\": \"Ave DO\",\n      \"properties\": {\n        \"dtype\": \"number\",\n        \"std\": 0.38538838987036644,\n        \"min\": 9.448913043,\n        \"max\": 11.31770833,\n        \"num_unique_values\": 88,\n        \"samples\": [\n          11.12291667,\n          9.448913043,\n          11.08125\n        ],\n        \"semantic_type\": \"\",\n        \"description\": \"\"\n      }\n    },\n    {\n      \"column\": \"Ave pH\",\n      \"properties\": {\n        \"dtype\": \"number\",\n        \"std\": 0.14622260578671342,\n        \"min\": 7.297916667,\n        \"max\": 7.8,\n        \"num_unique_values\": 42,\n        \"samples\": [\n          7.515217391,\n          7.588541667,\n          7.778125\n        ],\n        \"semantic_type\": \"\",\n        \"description\": \"\"\n      }\n    },\n    {\n      \"column\": \"Ave Tem\",\n      \"properties\": {\n        \"dtype\": \"number\",\n        \"std\": 1.2760289276701464,\n        \"min\": 8.976041667,\n        \"max\": 14.303125,\n        \"num_unique_values\": 87,\n        \"samples\": [\n          10.9,\n          11.25217391,\n          9.076041667\n        ],\n        \"semantic_type\": \"\",\n        \"description\": \"\"\n      }\n    },\n    {\n      \"column\": \"Ave turbidity\",\n      \"properties\": {\n        \"dtype\": \"number\",\n        \"std\": 19.74316173507753,\n        \"min\": 10.04166667,\n        \"max\": 135.2130435,\n        \"num_unique_values\": 89,\n        \"samples\": [\n          38.10625,\n          27.39166667,\n          10.85625\n        ],\n        \"semantic_type\": \"\",\n        \"description\": \"\"\n      }\n    },\n    {\n      \"column\": \"Ave SC\",\n      \"properties\": {\n        \"dtype\": \"number\",\n        \"std\": 27.982072095268776,\n        \"min\": 89.8125,\n        \"max\": 191.1041667,\n        \"num_unique_values\": 87,\n        \"samples\": [\n          103.2083333,\n          136.3406593,\n          190.7291667\n        ],\n        \"semantic_type\": \"\",\n        \"description\": \"\"\n      }\n    },\n    {\n      \"column\": \"Ave DO+1\",\n      \"properties\": {\n        \"dtype\": \"number\",\n        \"std\": 0.3628367497146723,\n        \"min\": 9.467391304,\n        \"max\": 11.31770833,\n        \"num_unique_values\": 88,\n        \"samples\": [\n          11.15416667,\n          9.467391304,\n          11.24270833\n        ],\n        \"semantic_type\": \"\",\n        \"description\": \"\"\n      }\n    },\n    {\n      \"column\": \"Ave DO+7\",\n      \"properties\": {\n        \"dtype\": \"number\",\n        \"std\": 0.271620652142381,\n        \"min\": 10.23020833,\n        \"max\": 11.31770833,\n        \"num_unique_values\": 88,\n        \"samples\": [\n          10.64583333,\n          10.42608696,\n          11.24166667\n        ],\n        \"semantic_type\": \"\",\n        \"description\": \"\"\n      }\n    },\n    {\n      \"column\": \"Ave DO+30\",\n      \"properties\": {\n        \"dtype\": \"number\",\n        \"std\": 0.47045318877765263,\n        \"min\": 9.405208333,\n        \"max\": 11.31770833,\n        \"num_unique_values\": 87,\n        \"samples\": [\n          9.827083333,\n          11.30978261,\n          10.58333333\n        ],\n        \"semantic_type\": \"\",\n        \"description\": \"\"\n      }\n    }\n  ]\n}"
            }
          },
          "metadata": {},
          "execution_count": 8
        }
      ]
    },
    {
      "cell_type": "code",
      "source": [
        "# Define the path to the CSV file containing water quality data\n",
        "csv_path = \"/content/drive/MyDrive/Water Quality/water_data.csv\"\n",
        "\n",
        "# Read the CSV file into a DataFrame using pandas\n",
        "df = pd.read_csv(csv_path)\n",
        "\n",
        "df.head()"
      ],
      "metadata": {
        "id": "giMHTfdBhPb1",
        "colab": {
          "base_uri": "https://localhost:8080/",
          "height": 382
        },
        "outputId": "f9f3034c-0f03-4dc8-a991-4b13f0598775"
      },
      "execution_count": 9,
      "outputs": [
        {
          "output_type": "error",
          "ename": "FileNotFoundError",
          "evalue": "[Errno 2] No such file or directory: '/content/drive/MyDrive/Water Quality/water_data.csv'",
          "traceback": [
            "\u001b[0;31m---------------------------------------------------------------------------\u001b[0m",
            "\u001b[0;31mFileNotFoundError\u001b[0m                         Traceback (most recent call last)",
            "\u001b[0;32m<ipython-input-9-02ee74d00c36>\u001b[0m in \u001b[0;36m<cell line: 0>\u001b[0;34m()\u001b[0m\n\u001b[1;32m      3\u001b[0m \u001b[0;34m\u001b[0m\u001b[0m\n\u001b[1;32m      4\u001b[0m \u001b[0;31m# Read the CSV file into a DataFrame using pandas\u001b[0m\u001b[0;34m\u001b[0m\u001b[0;34m\u001b[0m\u001b[0m\n\u001b[0;32m----> 5\u001b[0;31m \u001b[0mdf\u001b[0m \u001b[0;34m=\u001b[0m \u001b[0mpd\u001b[0m\u001b[0;34m.\u001b[0m\u001b[0mread_csv\u001b[0m\u001b[0;34m(\u001b[0m\u001b[0mcsv_path\u001b[0m\u001b[0;34m)\u001b[0m\u001b[0;34m\u001b[0m\u001b[0;34m\u001b[0m\u001b[0m\n\u001b[0m\u001b[1;32m      6\u001b[0m \u001b[0;34m\u001b[0m\u001b[0m\n\u001b[1;32m      7\u001b[0m \u001b[0mdf\u001b[0m\u001b[0;34m.\u001b[0m\u001b[0mhead\u001b[0m\u001b[0;34m(\u001b[0m\u001b[0;34m)\u001b[0m\u001b[0;34m\u001b[0m\u001b[0;34m\u001b[0m\u001b[0m\n",
            "\u001b[0;32m/usr/local/lib/python3.11/dist-packages/pandas/io/parsers/readers.py\u001b[0m in \u001b[0;36mread_csv\u001b[0;34m(filepath_or_buffer, sep, delimiter, header, names, index_col, usecols, dtype, engine, converters, true_values, false_values, skipinitialspace, skiprows, skipfooter, nrows, na_values, keep_default_na, na_filter, verbose, skip_blank_lines, parse_dates, infer_datetime_format, keep_date_col, date_parser, date_format, dayfirst, cache_dates, iterator, chunksize, compression, thousands, decimal, lineterminator, quotechar, quoting, doublequote, escapechar, comment, encoding, encoding_errors, dialect, on_bad_lines, delim_whitespace, low_memory, memory_map, float_precision, storage_options, dtype_backend)\u001b[0m\n\u001b[1;32m   1024\u001b[0m     \u001b[0mkwds\u001b[0m\u001b[0;34m.\u001b[0m\u001b[0mupdate\u001b[0m\u001b[0;34m(\u001b[0m\u001b[0mkwds_defaults\u001b[0m\u001b[0;34m)\u001b[0m\u001b[0;34m\u001b[0m\u001b[0;34m\u001b[0m\u001b[0m\n\u001b[1;32m   1025\u001b[0m \u001b[0;34m\u001b[0m\u001b[0m\n\u001b[0;32m-> 1026\u001b[0;31m     \u001b[0;32mreturn\u001b[0m \u001b[0m_read\u001b[0m\u001b[0;34m(\u001b[0m\u001b[0mfilepath_or_buffer\u001b[0m\u001b[0;34m,\u001b[0m \u001b[0mkwds\u001b[0m\u001b[0;34m)\u001b[0m\u001b[0;34m\u001b[0m\u001b[0;34m\u001b[0m\u001b[0m\n\u001b[0m\u001b[1;32m   1027\u001b[0m \u001b[0;34m\u001b[0m\u001b[0m\n\u001b[1;32m   1028\u001b[0m \u001b[0;34m\u001b[0m\u001b[0m\n",
            "\u001b[0;32m/usr/local/lib/python3.11/dist-packages/pandas/io/parsers/readers.py\u001b[0m in \u001b[0;36m_read\u001b[0;34m(filepath_or_buffer, kwds)\u001b[0m\n\u001b[1;32m    618\u001b[0m \u001b[0;34m\u001b[0m\u001b[0m\n\u001b[1;32m    619\u001b[0m     \u001b[0;31m# Create the parser.\u001b[0m\u001b[0;34m\u001b[0m\u001b[0;34m\u001b[0m\u001b[0m\n\u001b[0;32m--> 620\u001b[0;31m     \u001b[0mparser\u001b[0m \u001b[0;34m=\u001b[0m \u001b[0mTextFileReader\u001b[0m\u001b[0;34m(\u001b[0m\u001b[0mfilepath_or_buffer\u001b[0m\u001b[0;34m,\u001b[0m \u001b[0;34m**\u001b[0m\u001b[0mkwds\u001b[0m\u001b[0;34m)\u001b[0m\u001b[0;34m\u001b[0m\u001b[0;34m\u001b[0m\u001b[0m\n\u001b[0m\u001b[1;32m    621\u001b[0m \u001b[0;34m\u001b[0m\u001b[0m\n\u001b[1;32m    622\u001b[0m     \u001b[0;32mif\u001b[0m \u001b[0mchunksize\u001b[0m \u001b[0;32mor\u001b[0m \u001b[0miterator\u001b[0m\u001b[0;34m:\u001b[0m\u001b[0;34m\u001b[0m\u001b[0;34m\u001b[0m\u001b[0m\n",
            "\u001b[0;32m/usr/local/lib/python3.11/dist-packages/pandas/io/parsers/readers.py\u001b[0m in \u001b[0;36m__init__\u001b[0;34m(self, f, engine, **kwds)\u001b[0m\n\u001b[1;32m   1618\u001b[0m \u001b[0;34m\u001b[0m\u001b[0m\n\u001b[1;32m   1619\u001b[0m         \u001b[0mself\u001b[0m\u001b[0;34m.\u001b[0m\u001b[0mhandles\u001b[0m\u001b[0;34m:\u001b[0m \u001b[0mIOHandles\u001b[0m \u001b[0;34m|\u001b[0m \u001b[0;32mNone\u001b[0m \u001b[0;34m=\u001b[0m \u001b[0;32mNone\u001b[0m\u001b[0;34m\u001b[0m\u001b[0;34m\u001b[0m\u001b[0m\n\u001b[0;32m-> 1620\u001b[0;31m         \u001b[0mself\u001b[0m\u001b[0;34m.\u001b[0m\u001b[0m_engine\u001b[0m \u001b[0;34m=\u001b[0m \u001b[0mself\u001b[0m\u001b[0;34m.\u001b[0m\u001b[0m_make_engine\u001b[0m\u001b[0;34m(\u001b[0m\u001b[0mf\u001b[0m\u001b[0;34m,\u001b[0m \u001b[0mself\u001b[0m\u001b[0;34m.\u001b[0m\u001b[0mengine\u001b[0m\u001b[0;34m)\u001b[0m\u001b[0;34m\u001b[0m\u001b[0;34m\u001b[0m\u001b[0m\n\u001b[0m\u001b[1;32m   1621\u001b[0m \u001b[0;34m\u001b[0m\u001b[0m\n\u001b[1;32m   1622\u001b[0m     \u001b[0;32mdef\u001b[0m \u001b[0mclose\u001b[0m\u001b[0;34m(\u001b[0m\u001b[0mself\u001b[0m\u001b[0;34m)\u001b[0m \u001b[0;34m->\u001b[0m \u001b[0;32mNone\u001b[0m\u001b[0;34m:\u001b[0m\u001b[0;34m\u001b[0m\u001b[0;34m\u001b[0m\u001b[0m\n",
            "\u001b[0;32m/usr/local/lib/python3.11/dist-packages/pandas/io/parsers/readers.py\u001b[0m in \u001b[0;36m_make_engine\u001b[0;34m(self, f, engine)\u001b[0m\n\u001b[1;32m   1878\u001b[0m                 \u001b[0;32mif\u001b[0m \u001b[0;34m\"b\"\u001b[0m \u001b[0;32mnot\u001b[0m \u001b[0;32min\u001b[0m \u001b[0mmode\u001b[0m\u001b[0;34m:\u001b[0m\u001b[0;34m\u001b[0m\u001b[0;34m\u001b[0m\u001b[0m\n\u001b[1;32m   1879\u001b[0m                     \u001b[0mmode\u001b[0m \u001b[0;34m+=\u001b[0m \u001b[0;34m\"b\"\u001b[0m\u001b[0;34m\u001b[0m\u001b[0;34m\u001b[0m\u001b[0m\n\u001b[0;32m-> 1880\u001b[0;31m             self.handles = get_handle(\n\u001b[0m\u001b[1;32m   1881\u001b[0m                 \u001b[0mf\u001b[0m\u001b[0;34m,\u001b[0m\u001b[0;34m\u001b[0m\u001b[0;34m\u001b[0m\u001b[0m\n\u001b[1;32m   1882\u001b[0m                 \u001b[0mmode\u001b[0m\u001b[0;34m,\u001b[0m\u001b[0;34m\u001b[0m\u001b[0;34m\u001b[0m\u001b[0m\n",
            "\u001b[0;32m/usr/local/lib/python3.11/dist-packages/pandas/io/common.py\u001b[0m in \u001b[0;36mget_handle\u001b[0;34m(path_or_buf, mode, encoding, compression, memory_map, is_text, errors, storage_options)\u001b[0m\n\u001b[1;32m    871\u001b[0m         \u001b[0;32mif\u001b[0m \u001b[0mioargs\u001b[0m\u001b[0;34m.\u001b[0m\u001b[0mencoding\u001b[0m \u001b[0;32mand\u001b[0m \u001b[0;34m\"b\"\u001b[0m \u001b[0;32mnot\u001b[0m \u001b[0;32min\u001b[0m \u001b[0mioargs\u001b[0m\u001b[0;34m.\u001b[0m\u001b[0mmode\u001b[0m\u001b[0;34m:\u001b[0m\u001b[0;34m\u001b[0m\u001b[0;34m\u001b[0m\u001b[0m\n\u001b[1;32m    872\u001b[0m             \u001b[0;31m# Encoding\u001b[0m\u001b[0;34m\u001b[0m\u001b[0;34m\u001b[0m\u001b[0m\n\u001b[0;32m--> 873\u001b[0;31m             handle = open(\n\u001b[0m\u001b[1;32m    874\u001b[0m                 \u001b[0mhandle\u001b[0m\u001b[0;34m,\u001b[0m\u001b[0;34m\u001b[0m\u001b[0;34m\u001b[0m\u001b[0m\n\u001b[1;32m    875\u001b[0m                 \u001b[0mioargs\u001b[0m\u001b[0;34m.\u001b[0m\u001b[0mmode\u001b[0m\u001b[0;34m,\u001b[0m\u001b[0;34m\u001b[0m\u001b[0;34m\u001b[0m\u001b[0m\n",
            "\u001b[0;31mFileNotFoundError\u001b[0m: [Errno 2] No such file or directory: '/content/drive/MyDrive/Water Quality/water_data.csv'"
          ]
        }
      ]
    },
    {
      "cell_type": "markdown",
      "source": [
        "# 4. Preprocessing the Dataset"
      ],
      "metadata": {
        "id": "3ryP5LAfhmbn"
      }
    },
    {
      "cell_type": "markdown",
      "source": [
        "## 4.1 Separating the Dataset into Inputs and Target"
      ],
      "metadata": {
        "id": "MGapT96RhqX1"
      }
    },
    {
      "cell_type": "markdown",
      "source": [
        "Code Block 4A"
      ],
      "metadata": {
        "id": "4EjFdDKld-XB"
      }
    },
    {
      "cell_type": "code",
      "source": [
        "# Drop the 'date' column and the target columns ('Ave DO (1 day)', 'Ave DO (1 week)', 'Ave DO (4 weeks)')\n",
        "# from the DataFrame to create the input features DataFrame\n",
        "inputs = df.drop(['date', 'Ave DO+1', 'Ave DO+7', 'Ave DO+30'], axis='columns')\n",
        "\n",
        "# Select the target columns ('Average DO (1 day)', 'Average DO (1 week)', 'Average DO (4 weeks)')\n",
        "# from the DataFrame to create the target DataFrame\n",
        "target = df[[ 'Ave DO+1', 'Ave DO+7', 'Ave DO+30']]"
      ],
      "metadata": {
        "collapsed": true,
        "id": "5ZitDZEaCEI-"
      },
      "execution_count": 10,
      "outputs": []
    },
    {
      "cell_type": "markdown",
      "source": [
        "Code Block 4B"
      ],
      "metadata": {
        "id": "V8g0TwTqeAAN"
      }
    },
    {
      "cell_type": "code",
      "source": [
        "# Convert the inputs DataFrame to a NumPy array with float data type\n",
        "inputs = np.array(inputs, dtype=float)\n",
        "\n",
        "# Convert the target DataFrame to a NumPy array with float data type\n",
        "target = np.array(target, dtype=float)"
      ],
      "metadata": {
        "id": "MvklElsGhHzA"
      },
      "execution_count": 11,
      "outputs": []
    },
    {
      "cell_type": "markdown",
      "source": [
        "## 4.2 Splitting the Training and Testing Data"
      ],
      "metadata": {
        "id": "WsKm__jPiQau"
      }
    },
    {
      "cell_type": "markdown",
      "source": [
        "Code Block 4C"
      ],
      "metadata": {
        "id": "OxYFRqxieDks"
      }
    },
    {
      "cell_type": "code",
      "source": [
        "# Split the data into train and test sets (80% train, 20% test)\n",
        "X_train, X_test, y_train, y_test = train_test_split(inputs, target, test_size=0.2, random_state=42)\n",
        "\n",
        "print(\"X_train shape:\", X_train.shape)\n",
        "print(\"X_test shape:\", X_test.shape)\n",
        "print(\"y_train shape:\", y_train.shape)\n",
        "print(\"y_test shape:\", y_test.shape)"
      ],
      "metadata": {
        "id": "pm3iyBSRiTbf",
        "colab": {
          "base_uri": "https://localhost:8080/"
        },
        "outputId": "8513f2ea-d131-46a0-88ff-892f4c388eac"
      },
      "execution_count": 12,
      "outputs": [
        {
          "output_type": "stream",
          "name": "stdout",
          "text": [
            "X_train shape: (71, 5)\n",
            "X_test shape: (18, 5)\n",
            "y_train shape: (71, 3)\n",
            "y_test shape: (18, 3)\n"
          ]
        }
      ]
    },
    {
      "cell_type": "markdown",
      "source": [
        "# 5. Training the Model\n"
      ],
      "metadata": {
        "id": "gCGvez2eiw_d"
      }
    },
    {
      "cell_type": "markdown",
      "source": [
        "Code Block 5A"
      ],
      "metadata": {
        "id": "IBiYoluDersc"
      }
    },
    {
      "cell_type": "code",
      "source": [
        "# Initialize a RandomForestRegressor model from the scikit-learn library\n",
        "model = RandomForestRegressor()"
      ],
      "metadata": {
        "id": "TIWoibtAhslE"
      },
      "execution_count": 13,
      "outputs": []
    },
    {
      "cell_type": "markdown",
      "source": [
        "Code Block 5B"
      ],
      "metadata": {
        "id": "jtCvOAKzetsr"
      }
    },
    {
      "cell_type": "code",
      "source": [
        "# Fitting the model to the training data (X_train) and corresponding labels (y_train)\n",
        "model.fit(X_train, y_train)"
      ],
      "metadata": {
        "id": "eOo6Z-pbh3Qj",
        "colab": {
          "base_uri": "https://localhost:8080/",
          "height": 80
        },
        "outputId": "8a8003f7-d9e5-47e6-e219-776cdc5d81a3"
      },
      "execution_count": 14,
      "outputs": [
        {
          "output_type": "execute_result",
          "data": {
            "text/plain": [
              "RandomForestRegressor()"
            ],
            "text/html": [
              "<style>#sk-container-id-1 {\n",
              "  /* Definition of color scheme common for light and dark mode */\n",
              "  --sklearn-color-text: #000;\n",
              "  --sklearn-color-text-muted: #666;\n",
              "  --sklearn-color-line: gray;\n",
              "  /* Definition of color scheme for unfitted estimators */\n",
              "  --sklearn-color-unfitted-level-0: #fff5e6;\n",
              "  --sklearn-color-unfitted-level-1: #f6e4d2;\n",
              "  --sklearn-color-unfitted-level-2: #ffe0b3;\n",
              "  --sklearn-color-unfitted-level-3: chocolate;\n",
              "  /* Definition of color scheme for fitted estimators */\n",
              "  --sklearn-color-fitted-level-0: #f0f8ff;\n",
              "  --sklearn-color-fitted-level-1: #d4ebff;\n",
              "  --sklearn-color-fitted-level-2: #b3dbfd;\n",
              "  --sklearn-color-fitted-level-3: cornflowerblue;\n",
              "\n",
              "  /* Specific color for light theme */\n",
              "  --sklearn-color-text-on-default-background: var(--sg-text-color, var(--theme-code-foreground, var(--jp-content-font-color1, black)));\n",
              "  --sklearn-color-background: var(--sg-background-color, var(--theme-background, var(--jp-layout-color0, white)));\n",
              "  --sklearn-color-border-box: var(--sg-text-color, var(--theme-code-foreground, var(--jp-content-font-color1, black)));\n",
              "  --sklearn-color-icon: #696969;\n",
              "\n",
              "  @media (prefers-color-scheme: dark) {\n",
              "    /* Redefinition of color scheme for dark theme */\n",
              "    --sklearn-color-text-on-default-background: var(--sg-text-color, var(--theme-code-foreground, var(--jp-content-font-color1, white)));\n",
              "    --sklearn-color-background: var(--sg-background-color, var(--theme-background, var(--jp-layout-color0, #111)));\n",
              "    --sklearn-color-border-box: var(--sg-text-color, var(--theme-code-foreground, var(--jp-content-font-color1, white)));\n",
              "    --sklearn-color-icon: #878787;\n",
              "  }\n",
              "}\n",
              "\n",
              "#sk-container-id-1 {\n",
              "  color: var(--sklearn-color-text);\n",
              "}\n",
              "\n",
              "#sk-container-id-1 pre {\n",
              "  padding: 0;\n",
              "}\n",
              "\n",
              "#sk-container-id-1 input.sk-hidden--visually {\n",
              "  border: 0;\n",
              "  clip: rect(1px 1px 1px 1px);\n",
              "  clip: rect(1px, 1px, 1px, 1px);\n",
              "  height: 1px;\n",
              "  margin: -1px;\n",
              "  overflow: hidden;\n",
              "  padding: 0;\n",
              "  position: absolute;\n",
              "  width: 1px;\n",
              "}\n",
              "\n",
              "#sk-container-id-1 div.sk-dashed-wrapped {\n",
              "  border: 1px dashed var(--sklearn-color-line);\n",
              "  margin: 0 0.4em 0.5em 0.4em;\n",
              "  box-sizing: border-box;\n",
              "  padding-bottom: 0.4em;\n",
              "  background-color: var(--sklearn-color-background);\n",
              "}\n",
              "\n",
              "#sk-container-id-1 div.sk-container {\n",
              "  /* jupyter's `normalize.less` sets `[hidden] { display: none; }`\n",
              "     but bootstrap.min.css set `[hidden] { display: none !important; }`\n",
              "     so we also need the `!important` here to be able to override the\n",
              "     default hidden behavior on the sphinx rendered scikit-learn.org.\n",
              "     See: https://github.com/scikit-learn/scikit-learn/issues/21755 */\n",
              "  display: inline-block !important;\n",
              "  position: relative;\n",
              "}\n",
              "\n",
              "#sk-container-id-1 div.sk-text-repr-fallback {\n",
              "  display: none;\n",
              "}\n",
              "\n",
              "div.sk-parallel-item,\n",
              "div.sk-serial,\n",
              "div.sk-item {\n",
              "  /* draw centered vertical line to link estimators */\n",
              "  background-image: linear-gradient(var(--sklearn-color-text-on-default-background), var(--sklearn-color-text-on-default-background));\n",
              "  background-size: 2px 100%;\n",
              "  background-repeat: no-repeat;\n",
              "  background-position: center center;\n",
              "}\n",
              "\n",
              "/* Parallel-specific style estimator block */\n",
              "\n",
              "#sk-container-id-1 div.sk-parallel-item::after {\n",
              "  content: \"\";\n",
              "  width: 100%;\n",
              "  border-bottom: 2px solid var(--sklearn-color-text-on-default-background);\n",
              "  flex-grow: 1;\n",
              "}\n",
              "\n",
              "#sk-container-id-1 div.sk-parallel {\n",
              "  display: flex;\n",
              "  align-items: stretch;\n",
              "  justify-content: center;\n",
              "  background-color: var(--sklearn-color-background);\n",
              "  position: relative;\n",
              "}\n",
              "\n",
              "#sk-container-id-1 div.sk-parallel-item {\n",
              "  display: flex;\n",
              "  flex-direction: column;\n",
              "}\n",
              "\n",
              "#sk-container-id-1 div.sk-parallel-item:first-child::after {\n",
              "  align-self: flex-end;\n",
              "  width: 50%;\n",
              "}\n",
              "\n",
              "#sk-container-id-1 div.sk-parallel-item:last-child::after {\n",
              "  align-self: flex-start;\n",
              "  width: 50%;\n",
              "}\n",
              "\n",
              "#sk-container-id-1 div.sk-parallel-item:only-child::after {\n",
              "  width: 0;\n",
              "}\n",
              "\n",
              "/* Serial-specific style estimator block */\n",
              "\n",
              "#sk-container-id-1 div.sk-serial {\n",
              "  display: flex;\n",
              "  flex-direction: column;\n",
              "  align-items: center;\n",
              "  background-color: var(--sklearn-color-background);\n",
              "  padding-right: 1em;\n",
              "  padding-left: 1em;\n",
              "}\n",
              "\n",
              "\n",
              "/* Toggleable style: style used for estimator/Pipeline/ColumnTransformer box that is\n",
              "clickable and can be expanded/collapsed.\n",
              "- Pipeline and ColumnTransformer use this feature and define the default style\n",
              "- Estimators will overwrite some part of the style using the `sk-estimator` class\n",
              "*/\n",
              "\n",
              "/* Pipeline and ColumnTransformer style (default) */\n",
              "\n",
              "#sk-container-id-1 div.sk-toggleable {\n",
              "  /* Default theme specific background. It is overwritten whether we have a\n",
              "  specific estimator or a Pipeline/ColumnTransformer */\n",
              "  background-color: var(--sklearn-color-background);\n",
              "}\n",
              "\n",
              "/* Toggleable label */\n",
              "#sk-container-id-1 label.sk-toggleable__label {\n",
              "  cursor: pointer;\n",
              "  display: flex;\n",
              "  width: 100%;\n",
              "  margin-bottom: 0;\n",
              "  padding: 0.5em;\n",
              "  box-sizing: border-box;\n",
              "  text-align: center;\n",
              "  align-items: start;\n",
              "  justify-content: space-between;\n",
              "  gap: 0.5em;\n",
              "}\n",
              "\n",
              "#sk-container-id-1 label.sk-toggleable__label .caption {\n",
              "  font-size: 0.6rem;\n",
              "  font-weight: lighter;\n",
              "  color: var(--sklearn-color-text-muted);\n",
              "}\n",
              "\n",
              "#sk-container-id-1 label.sk-toggleable__label-arrow:before {\n",
              "  /* Arrow on the left of the label */\n",
              "  content: \"▸\";\n",
              "  float: left;\n",
              "  margin-right: 0.25em;\n",
              "  color: var(--sklearn-color-icon);\n",
              "}\n",
              "\n",
              "#sk-container-id-1 label.sk-toggleable__label-arrow:hover:before {\n",
              "  color: var(--sklearn-color-text);\n",
              "}\n",
              "\n",
              "/* Toggleable content - dropdown */\n",
              "\n",
              "#sk-container-id-1 div.sk-toggleable__content {\n",
              "  max-height: 0;\n",
              "  max-width: 0;\n",
              "  overflow: hidden;\n",
              "  text-align: left;\n",
              "  /* unfitted */\n",
              "  background-color: var(--sklearn-color-unfitted-level-0);\n",
              "}\n",
              "\n",
              "#sk-container-id-1 div.sk-toggleable__content.fitted {\n",
              "  /* fitted */\n",
              "  background-color: var(--sklearn-color-fitted-level-0);\n",
              "}\n",
              "\n",
              "#sk-container-id-1 div.sk-toggleable__content pre {\n",
              "  margin: 0.2em;\n",
              "  border-radius: 0.25em;\n",
              "  color: var(--sklearn-color-text);\n",
              "  /* unfitted */\n",
              "  background-color: var(--sklearn-color-unfitted-level-0);\n",
              "}\n",
              "\n",
              "#sk-container-id-1 div.sk-toggleable__content.fitted pre {\n",
              "  /* unfitted */\n",
              "  background-color: var(--sklearn-color-fitted-level-0);\n",
              "}\n",
              "\n",
              "#sk-container-id-1 input.sk-toggleable__control:checked~div.sk-toggleable__content {\n",
              "  /* Expand drop-down */\n",
              "  max-height: 200px;\n",
              "  max-width: 100%;\n",
              "  overflow: auto;\n",
              "}\n",
              "\n",
              "#sk-container-id-1 input.sk-toggleable__control:checked~label.sk-toggleable__label-arrow:before {\n",
              "  content: \"▾\";\n",
              "}\n",
              "\n",
              "/* Pipeline/ColumnTransformer-specific style */\n",
              "\n",
              "#sk-container-id-1 div.sk-label input.sk-toggleable__control:checked~label.sk-toggleable__label {\n",
              "  color: var(--sklearn-color-text);\n",
              "  background-color: var(--sklearn-color-unfitted-level-2);\n",
              "}\n",
              "\n",
              "#sk-container-id-1 div.sk-label.fitted input.sk-toggleable__control:checked~label.sk-toggleable__label {\n",
              "  background-color: var(--sklearn-color-fitted-level-2);\n",
              "}\n",
              "\n",
              "/* Estimator-specific style */\n",
              "\n",
              "/* Colorize estimator box */\n",
              "#sk-container-id-1 div.sk-estimator input.sk-toggleable__control:checked~label.sk-toggleable__label {\n",
              "  /* unfitted */\n",
              "  background-color: var(--sklearn-color-unfitted-level-2);\n",
              "}\n",
              "\n",
              "#sk-container-id-1 div.sk-estimator.fitted input.sk-toggleable__control:checked~label.sk-toggleable__label {\n",
              "  /* fitted */\n",
              "  background-color: var(--sklearn-color-fitted-level-2);\n",
              "}\n",
              "\n",
              "#sk-container-id-1 div.sk-label label.sk-toggleable__label,\n",
              "#sk-container-id-1 div.sk-label label {\n",
              "  /* The background is the default theme color */\n",
              "  color: var(--sklearn-color-text-on-default-background);\n",
              "}\n",
              "\n",
              "/* On hover, darken the color of the background */\n",
              "#sk-container-id-1 div.sk-label:hover label.sk-toggleable__label {\n",
              "  color: var(--sklearn-color-text);\n",
              "  background-color: var(--sklearn-color-unfitted-level-2);\n",
              "}\n",
              "\n",
              "/* Label box, darken color on hover, fitted */\n",
              "#sk-container-id-1 div.sk-label.fitted:hover label.sk-toggleable__label.fitted {\n",
              "  color: var(--sklearn-color-text);\n",
              "  background-color: var(--sklearn-color-fitted-level-2);\n",
              "}\n",
              "\n",
              "/* Estimator label */\n",
              "\n",
              "#sk-container-id-1 div.sk-label label {\n",
              "  font-family: monospace;\n",
              "  font-weight: bold;\n",
              "  display: inline-block;\n",
              "  line-height: 1.2em;\n",
              "}\n",
              "\n",
              "#sk-container-id-1 div.sk-label-container {\n",
              "  text-align: center;\n",
              "}\n",
              "\n",
              "/* Estimator-specific */\n",
              "#sk-container-id-1 div.sk-estimator {\n",
              "  font-family: monospace;\n",
              "  border: 1px dotted var(--sklearn-color-border-box);\n",
              "  border-radius: 0.25em;\n",
              "  box-sizing: border-box;\n",
              "  margin-bottom: 0.5em;\n",
              "  /* unfitted */\n",
              "  background-color: var(--sklearn-color-unfitted-level-0);\n",
              "}\n",
              "\n",
              "#sk-container-id-1 div.sk-estimator.fitted {\n",
              "  /* fitted */\n",
              "  background-color: var(--sklearn-color-fitted-level-0);\n",
              "}\n",
              "\n",
              "/* on hover */\n",
              "#sk-container-id-1 div.sk-estimator:hover {\n",
              "  /* unfitted */\n",
              "  background-color: var(--sklearn-color-unfitted-level-2);\n",
              "}\n",
              "\n",
              "#sk-container-id-1 div.sk-estimator.fitted:hover {\n",
              "  /* fitted */\n",
              "  background-color: var(--sklearn-color-fitted-level-2);\n",
              "}\n",
              "\n",
              "/* Specification for estimator info (e.g. \"i\" and \"?\") */\n",
              "\n",
              "/* Common style for \"i\" and \"?\" */\n",
              "\n",
              ".sk-estimator-doc-link,\n",
              "a:link.sk-estimator-doc-link,\n",
              "a:visited.sk-estimator-doc-link {\n",
              "  float: right;\n",
              "  font-size: smaller;\n",
              "  line-height: 1em;\n",
              "  font-family: monospace;\n",
              "  background-color: var(--sklearn-color-background);\n",
              "  border-radius: 1em;\n",
              "  height: 1em;\n",
              "  width: 1em;\n",
              "  text-decoration: none !important;\n",
              "  margin-left: 0.5em;\n",
              "  text-align: center;\n",
              "  /* unfitted */\n",
              "  border: var(--sklearn-color-unfitted-level-1) 1pt solid;\n",
              "  color: var(--sklearn-color-unfitted-level-1);\n",
              "}\n",
              "\n",
              ".sk-estimator-doc-link.fitted,\n",
              "a:link.sk-estimator-doc-link.fitted,\n",
              "a:visited.sk-estimator-doc-link.fitted {\n",
              "  /* fitted */\n",
              "  border: var(--sklearn-color-fitted-level-1) 1pt solid;\n",
              "  color: var(--sklearn-color-fitted-level-1);\n",
              "}\n",
              "\n",
              "/* On hover */\n",
              "div.sk-estimator:hover .sk-estimator-doc-link:hover,\n",
              ".sk-estimator-doc-link:hover,\n",
              "div.sk-label-container:hover .sk-estimator-doc-link:hover,\n",
              ".sk-estimator-doc-link:hover {\n",
              "  /* unfitted */\n",
              "  background-color: var(--sklearn-color-unfitted-level-3);\n",
              "  color: var(--sklearn-color-background);\n",
              "  text-decoration: none;\n",
              "}\n",
              "\n",
              "div.sk-estimator.fitted:hover .sk-estimator-doc-link.fitted:hover,\n",
              ".sk-estimator-doc-link.fitted:hover,\n",
              "div.sk-label-container:hover .sk-estimator-doc-link.fitted:hover,\n",
              ".sk-estimator-doc-link.fitted:hover {\n",
              "  /* fitted */\n",
              "  background-color: var(--sklearn-color-fitted-level-3);\n",
              "  color: var(--sklearn-color-background);\n",
              "  text-decoration: none;\n",
              "}\n",
              "\n",
              "/* Span, style for the box shown on hovering the info icon */\n",
              ".sk-estimator-doc-link span {\n",
              "  display: none;\n",
              "  z-index: 9999;\n",
              "  position: relative;\n",
              "  font-weight: normal;\n",
              "  right: .2ex;\n",
              "  padding: .5ex;\n",
              "  margin: .5ex;\n",
              "  width: min-content;\n",
              "  min-width: 20ex;\n",
              "  max-width: 50ex;\n",
              "  color: var(--sklearn-color-text);\n",
              "  box-shadow: 2pt 2pt 4pt #999;\n",
              "  /* unfitted */\n",
              "  background: var(--sklearn-color-unfitted-level-0);\n",
              "  border: .5pt solid var(--sklearn-color-unfitted-level-3);\n",
              "}\n",
              "\n",
              ".sk-estimator-doc-link.fitted span {\n",
              "  /* fitted */\n",
              "  background: var(--sklearn-color-fitted-level-0);\n",
              "  border: var(--sklearn-color-fitted-level-3);\n",
              "}\n",
              "\n",
              ".sk-estimator-doc-link:hover span {\n",
              "  display: block;\n",
              "}\n",
              "\n",
              "/* \"?\"-specific style due to the `<a>` HTML tag */\n",
              "\n",
              "#sk-container-id-1 a.estimator_doc_link {\n",
              "  float: right;\n",
              "  font-size: 1rem;\n",
              "  line-height: 1em;\n",
              "  font-family: monospace;\n",
              "  background-color: var(--sklearn-color-background);\n",
              "  border-radius: 1rem;\n",
              "  height: 1rem;\n",
              "  width: 1rem;\n",
              "  text-decoration: none;\n",
              "  /* unfitted */\n",
              "  color: var(--sklearn-color-unfitted-level-1);\n",
              "  border: var(--sklearn-color-unfitted-level-1) 1pt solid;\n",
              "}\n",
              "\n",
              "#sk-container-id-1 a.estimator_doc_link.fitted {\n",
              "  /* fitted */\n",
              "  border: var(--sklearn-color-fitted-level-1) 1pt solid;\n",
              "  color: var(--sklearn-color-fitted-level-1);\n",
              "}\n",
              "\n",
              "/* On hover */\n",
              "#sk-container-id-1 a.estimator_doc_link:hover {\n",
              "  /* unfitted */\n",
              "  background-color: var(--sklearn-color-unfitted-level-3);\n",
              "  color: var(--sklearn-color-background);\n",
              "  text-decoration: none;\n",
              "}\n",
              "\n",
              "#sk-container-id-1 a.estimator_doc_link.fitted:hover {\n",
              "  /* fitted */\n",
              "  background-color: var(--sklearn-color-fitted-level-3);\n",
              "}\n",
              "</style><div id=\"sk-container-id-1\" class=\"sk-top-container\"><div class=\"sk-text-repr-fallback\"><pre>RandomForestRegressor()</pre><b>In a Jupyter environment, please rerun this cell to show the HTML representation or trust the notebook. <br />On GitHub, the HTML representation is unable to render, please try loading this page with nbviewer.org.</b></div><div class=\"sk-container\" hidden><div class=\"sk-item\"><div class=\"sk-estimator fitted sk-toggleable\"><input class=\"sk-toggleable__control sk-hidden--visually\" id=\"sk-estimator-id-1\" type=\"checkbox\" checked><label for=\"sk-estimator-id-1\" class=\"sk-toggleable__label fitted sk-toggleable__label-arrow\"><div><div>RandomForestRegressor</div></div><div><a class=\"sk-estimator-doc-link fitted\" rel=\"noreferrer\" target=\"_blank\" href=\"https://scikit-learn.org/1.6/modules/generated/sklearn.ensemble.RandomForestRegressor.html\">?<span>Documentation for RandomForestRegressor</span></a><span class=\"sk-estimator-doc-link fitted\">i<span>Fitted</span></span></div></label><div class=\"sk-toggleable__content fitted\"><pre>RandomForestRegressor()</pre></div> </div></div></div></div>"
            ]
          },
          "metadata": {},
          "execution_count": 14
        }
      ]
    },
    {
      "cell_type": "markdown",
      "source": [
        "Code Block 5C"
      ],
      "metadata": {
        "id": "QvMZZIJHew5K"
      }
    },
    {
      "cell_type": "code",
      "source": [
        "# Using the trained model to make predictions on the test data (X_test)\n",
        "y_pred = model.predict(X_test)\n",
        "\n",
        "# Rounding to 1 decimal place\n",
        "rounded_y_pred = np.round(y_pred, 1)\n",
        "\n",
        "# Printing the predicted labels\n",
        "print(rounded_y_pred)"
      ],
      "metadata": {
        "id": "_qKQn5IFh84K",
        "colab": {
          "base_uri": "https://localhost:8080/"
        },
        "outputId": "71618a1d-08f5-4714-e7ba-725ff842d403"
      },
      "execution_count": 15,
      "outputs": [
        {
          "output_type": "stream",
          "name": "stdout",
          "text": [
            "[[10.7 10.7 10.6]\n",
            " [10.6 10.5 11. ]\n",
            " [11.3 10.8 10.6]\n",
            " [10.9 10.9 10.8]\n",
            " [10.5 10.6 11.1]\n",
            " [ 9.9 10.5 11.2]\n",
            " [10.6 10.7 10.7]\n",
            " [10.9 11.  10.8]\n",
            " [10.6 10.8 10.8]\n",
            " [11.  11.3 10.6]\n",
            " [10.2 10.7 11.1]\n",
            " [11.  10.7 10.4]\n",
            " [10.9 10.6 10.6]\n",
            " [11.1 10.6  9.9]\n",
            " [11.  10.7  9.9]\n",
            " [10.7 10.8 10.7]\n",
            " [11.  10.7 10.1]\n",
            " [10.5 10.7 10.6]]\n"
          ]
        }
      ]
    },
    {
      "cell_type": "markdown",
      "source": [
        "Code Block 5D"
      ],
      "metadata": {
        "id": "NEb0rIgDey0h"
      }
    },
    {
      "cell_type": "code",
      "source": [
        "# Rounding to 1 decimal place\n",
        "rounded_y_test = np.round(y_test, 1)\n",
        "\n",
        "print(rounded_y_test)"
      ],
      "metadata": {
        "id": "2HXk0ZdEh_qz",
        "colab": {
          "base_uri": "https://localhost:8080/"
        },
        "outputId": "32647a00-a582-465a-cdd8-d5b41fba0046"
      },
      "execution_count": 16,
      "outputs": [
        {
          "output_type": "stream",
          "name": "stdout",
          "text": [
            "[[10.8 10.7 10.6]\n",
            " [10.6 10.5 11.1]\n",
            " [11.3 10.7 10.6]\n",
            " [10.9 10.9 10.8]\n",
            " [10.5 10.7 11.1]\n",
            " [ 9.5 10.4 11.3]\n",
            " [10.6 10.5 10.9]\n",
            " [10.9 11.  10.6]\n",
            " [10.8 10.8 10.7]\n",
            " [11.1 11.3 10.5]\n",
            " [ 9.9 10.8 11.2]\n",
            " [11.1 10.8 10.4]\n",
            " [10.8 10.3 10.6]\n",
            " [11.1 10.2  9.7]\n",
            " [11.  10.3  9.7]\n",
            " [10.8 10.6 10.7]\n",
            " [11.2 10.6  9.9]\n",
            " [10.4 10.7 10.4]]\n"
          ]
        }
      ]
    },
    {
      "cell_type": "markdown",
      "source": [
        "# 6. Evaluating the Model"
      ],
      "metadata": {
        "id": "qVX8XBlce6P5"
      }
    },
    {
      "cell_type": "markdown",
      "source": [
        "Code Block 6A"
      ],
      "metadata": {
        "id": "PCDMOth3e8C5"
      }
    },
    {
      "cell_type": "code",
      "source": [
        "# Calculate Mean Absolute Error\n",
        "mae = np.mean(np.abs(y_test - y_pred))\n",
        "mae_1day = np.mean(np.abs(y_test[0] - y_pred[0]))\n",
        "mae_7days = np.mean(np.abs(y_test[1] - y_pred[1]))\n",
        "mae_30days = np.mean(np.abs(y_test[2] - y_pred[2]))\n",
        "\n",
        "print(\"Overall Mean Absolute Error:\", mae)\n",
        "print(\"1 day Mean Absolute Error:\", mae_1day)\n",
        "print(\"1 Week Mean Absolute Error:\", mae_7days)\n",
        "print(\"4 weeks Mean Absolute Error:\", mae_30days)"
      ],
      "metadata": {
        "id": "pEHFdozah-Ib",
        "colab": {
          "base_uri": "https://localhost:8080/"
        },
        "outputId": "208ace66-82ef-4010-85d3-516fc25da7cd"
      },
      "execution_count": 17,
      "outputs": [
        {
          "output_type": "stream",
          "name": "stdout",
          "text": [
            "Overall Mean Absolute Error: 0.10419298154203638\n",
            "1 day Mean Absolute Error: 0.04874535812333095\n",
            "1 Week Mean Absolute Error: 0.06933209365666453\n",
            "4 weeks Mean Absolute Error: 0.056423039143329724\n"
          ]
        }
      ]
    },
    {
      "cell_type": "markdown",
      "source": [
        "Code Block 6B"
      ],
      "metadata": {
        "id": "KGEr9lT2e-hC"
      }
    },
    {
      "cell_type": "code",
      "source": [
        "# Define a function to calculate the Mean Absolute Percentage Error (MAPE)\n",
        "# between the true values (y_true) and the predicted values (y_pred)\n",
        "def mean_absolute_percentage_error(y_true, y_pred):\n",
        "    y_true, y_pred = np.array(y_true), np.array(y_pred)\n",
        "    return np.mean(np.abs((y_true - y_pred) / y_true)) * 100\n",
        "\n",
        "mape = mean_absolute_percentage_error(y_test, y_pred)\n",
        "mape_1day = mean_absolute_percentage_error(y_test[0], y_pred[0])\n",
        "mape_7days = mean_absolute_percentage_error(y_test[1], y_pred[1])\n",
        "mape_30days = mean_absolute_percentage_error(y_test[2], y_pred[2])\n",
        "\n",
        "print(\"Overall Mean Absolute Percentage Error:\", mape)\n",
        "print(\"1 day Mean Absolute Percentage Error:\", mape_1day)\n",
        "print(\"1 Week Mean Absolute Percentage Error:\", mape_7days)\n",
        "print(\"4 Weeks Mean Absolute Percentage Error:\", mape_30days)"
      ],
      "metadata": {
        "id": "e9VlN1ghPdZY",
        "colab": {
          "base_uri": "https://localhost:8080/"
        },
        "outputId": "e6333bde-7795-48ee-ddbf-be5976da506d"
      },
      "execution_count": 18,
      "outputs": [
        {
          "output_type": "stream",
          "name": "stdout",
          "text": [
            "Overall Mean Absolute Percentage Error: 1.0675317239279947\n",
            "1 day Mean Absolute Percentage Error: 0.5876883339304685\n",
            "1 Week Mean Absolute Percentage Error: 0.5815658682804902\n",
            "4 Weeks Mean Absolute Percentage Error: 0.5903743407342952\n"
          ]
        }
      ]
    },
    {
      "cell_type": "markdown",
      "source": [
        "# 7. Visualize the Data"
      ],
      "metadata": {
        "id": "rnqNjEvRwpse"
      }
    },
    {
      "cell_type": "markdown",
      "source": [
        "Code Block 7A"
      ],
      "metadata": {
        "id": "x2aMHdU4fDK_"
      }
    },
    {
      "cell_type": "code",
      "source": [
        "# Number of features\n",
        "n_features = y_test.shape[1]\n",
        "\n",
        "# Create subplots\n",
        "fig, axes = plt.subplots(1, n_features, figsize=(15, 5))\n",
        "\n",
        "# Titles for each subplot\n",
        "titles = ['1 day', '1 week', '4 weeks']\n",
        "\n",
        "# Determine common axis limits\n",
        "x_min = min(y_test.min(), y_pred.min())\n",
        "x_max = max(y_test.max(), y_pred.max())\n",
        "\n",
        "for i in range(n_features):\n",
        "    axes[i].scatter(y_test[:, i], y_pred[:, i], c='blue')\n",
        "    axes[i].plot([x_min, x_max], [x_min, x_max], 'r--')\n",
        "    axes[i].set_xlim(x_min, x_max)\n",
        "    axes[i].set_ylim(x_min, x_max)\n",
        "    axes[i].set_xlabel('Actual')\n",
        "    axes[i].set_ylabel('Predicted')\n",
        "    axes[i].set_title(titles[i])\n",
        "\n",
        "    # Calculate and annotate R² value\n",
        "    r2 = r2_score(y_test[:, i], y_pred[:, i])\n",
        "    axes[i].text(0.05, 0.95, f'R² = {r2:.2f}', transform=axes[i].transAxes,\n",
        "                 verticalalignment='top', fontsize=12, bbox=dict(facecolor='white', alpha=0.5))\n",
        "\n",
        "plt.tight_layout()\n",
        "plt.show()"
      ],
      "metadata": {
        "id": "HmOSNFM79A2Q",
        "colab": {
          "base_uri": "https://localhost:8080/",
          "height": 339
        },
        "outputId": "98491a2f-6dcd-4332-c9fb-79ec2899e2d3"
      },
      "execution_count": 18,
      "outputs": [
        {
          "output_type": "display_data",
          "data": {
            "text/plain": [
              "<Figure size 1500x500 with 3 Axes>"
            ],
            "image/png": "[encoded data removed]"
          },
          "metadata": {}
        }
      ]
    },
    {
      "cell_type": "markdown",
      "source": [
        "Code Block 7B"
      ],
      "metadata": {
        "id": "q7iR3pu4fJWY"
      }
    },
    {
      "cell_type": "code",
      "source": [
        "# TODO: Change this value to view the other decision trees\n",
        "tree_number = 1\n",
        "\n",
        "# TODO: Change this value to change the depth of the decision tree\n",
        "max_depth = 3\n",
        "\n",
        "tree = model.estimators_[tree_number]\n",
        "\n",
        "feature_names = ['Average Dissolved Oxygen', 'Average Temperature C',\t'Average Turbidity FNU', 'Average pH', 'Average Specific Conductance μS/cm']\n",
        "\n",
        "dot_data = export_graphviz(tree, feature_names=feature_names, filled=True, rounded=True, max_depth=max_depth)\n",
        "\n",
        "graph = graphviz.Source(dot_data)\n",
        "display(graph)\n",
        "graph"
      ],
      "metadata": {
        "id": "E21aH2HIwsZ8",
        "colab": {
          "base_uri": "https://localhost:8080/",
          "height": 1000
        },
        "outputId": "310eacd2-921d-4275-8f9b-501dd035573a"
      },
      "execution_count": 23,
      "outputs": [
        {
          "output_type": "display_data",
          "data": {
            "image/svg+xml": "<?xml version=\"1.0\" encoding=\"UTF-8\" standalone=\"no\"?>\n<!DOCTYPE svg PUBLIC \"-//W3C//DTD SVG 1.1//EN\"\n \"http://www.w3.org/Graphics/SVG/1.1/DTD/svg11.dtd\">\n<!-- Generated by graphviz version 2.43.0 (0)\n -->\n<!-- Title: Tree Pages: 1 -->\n<svg width=\"1766pt\" height=\"580pt\"\n viewBox=\"0.00 0.00 1766.00 580.00\" xmlns=\"http://www.w3.org/2000/svg\" xmlns:xlink=\"http://www.w3.org/1999/xlink\">\n<g id=\"graph0\" class=\"graph\" transform=\"scale(1 1) rotate(0) translate(4 576)\">\n<title>Tree</title>\n<polygon fill=\"white\" stroke=\"transparent\" points=\"-4,4 -4,-576 1762,-576 1762,4 -4,4\"/>\n<!-- 0 -->\n<g id=\"node1\" class=\"node\">\n<title>0</title>\n<path fill=\"#ffffff\" stroke=\"black\" d=\"M908,-572C908,-572 779,-572 779,-572 773,-572 767,-566 767,-560 767,-560 767,-486 767,-486 767,-480 773,-474 779,-474 779,-474 908,-474 908,-474 914,-474 920,-480 920,-486 920,-486 920,-560 920,-560 920,-566 914,-572 908,-572\"/>\n<text text-anchor=\"middle\" x=\"843.5\" y=\"-556.8\" font-family=\"Helvetica,sans-Serif\" font-size=\"14.00\">Average pH &lt;= 17.766</text>\n<text text-anchor=\"middle\" x=\"843.5\" y=\"-541.8\" font-family=\"Helvetica,sans-Serif\" font-size=\"14.00\">squared_error = 0.122</text>\n<text text-anchor=\"middle\" x=\"843.5\" y=\"-526.8\" font-family=\"Helvetica,sans-Serif\" font-size=\"14.00\">samples = 47</text>\n<text text-anchor=\"middle\" x=\"843.5\" y=\"-511.8\" font-family=\"Helvetica,sans-Serif\" font-size=\"14.00\">value = [[10.752]</text>\n<text text-anchor=\"middle\" x=\"843.5\" y=\"-496.8\" font-family=\"Helvetica,sans-Serif\" font-size=\"14.00\">[10.844]</text>\n<text text-anchor=\"middle\" x=\"843.5\" y=\"-481.8\" font-family=\"Helvetica,sans-Serif\" font-size=\"14.00\">[10.602]]</text>\n</g>\n<!-- 1 -->\n<g id=\"node2\" class=\"node\">\n<title>1</title>\n<path fill=\"#f6d2b9\" stroke=\"black\" d=\"M795,-438C795,-438 600,-438 600,-438 594,-438 588,-432 588,-426 588,-426 588,-352 588,-352 588,-346 594,-340 600,-340 600,-340 795,-340 795,-340 801,-340 807,-346 807,-352 807,-352 807,-426 807,-426 807,-432 801,-438 795,-438\"/>\n<text text-anchor=\"middle\" x=\"697.5\" y=\"-422.8\" font-family=\"Helvetica,sans-Serif\" font-size=\"14.00\">Average Turbidity FNU &lt;= 12.902</text>\n<text text-anchor=\"middle\" x=\"697.5\" y=\"-407.8\" font-family=\"Helvetica,sans-Serif\" font-size=\"14.00\">squared_error = 0.079</text>\n<text text-anchor=\"middle\" x=\"697.5\" y=\"-392.8\" font-family=\"Helvetica,sans-Serif\" font-size=\"14.00\">samples = 14</text>\n<text text-anchor=\"middle\" x=\"697.5\" y=\"-377.8\" font-family=\"Helvetica,sans-Serif\" font-size=\"14.00\">value = [[10.978]</text>\n<text text-anchor=\"middle\" x=\"697.5\" y=\"-362.8\" font-family=\"Helvetica,sans-Serif\" font-size=\"14.00\">[11.03]</text>\n<text text-anchor=\"middle\" x=\"697.5\" y=\"-347.8\" font-family=\"Helvetica,sans-Serif\" font-size=\"14.00\">[10.175]]</text>\n</g>\n<!-- 0&#45;&gt;1 -->\n<g id=\"edge1\" class=\"edge\">\n<title>0&#45;&gt;1</title>\n<path fill=\"none\" stroke=\"black\" d=\"M790.38,-473.97C780.01,-464.6 769.07,-454.7 758.47,-445.12\"/>\n<polygon fill=\"black\" stroke=\"black\" points=\"760.59,-442.32 750.83,-438.21 755.9,-447.52 760.59,-442.32\"/>\n<text text-anchor=\"middle\" x=\"752.08\" y=\"-459.48\" font-family=\"Helvetica,sans-Serif\" font-size=\"14.00\">True</text>\n</g>\n<!-- 28 -->\n<g id=\"node13\" class=\"node\">\n<title>28</title>\n<path fill=\"#f6d3ba\" stroke=\"black\" d=\"M1110,-438C1110,-438 889,-438 889,-438 883,-438 877,-432 877,-426 877,-426 877,-352 877,-352 877,-346 883,-340 889,-340 889,-340 1110,-340 1110,-340 1116,-340 1122,-346 1122,-352 1122,-352 1122,-426 1122,-426 1122,-432 1116,-438 1110,-438\"/>\n<text text-anchor=\"middle\" x=\"999.5\" y=\"-422.8\" font-family=\"Helvetica,sans-Serif\" font-size=\"14.00\">Average Dissolved Oxygen &lt;= 10.585</text>\n<text text-anchor=\"middle\" x=\"999.5\" y=\"-407.8\" font-family=\"Helvetica,sans-Serif\" font-size=\"14.00\">squared_error = 0.079</text>\n<text text-anchor=\"middle\" x=\"999.5\" y=\"-392.8\" font-family=\"Helvetica,sans-Serif\" font-size=\"14.00\">samples = 33</text>\n<text text-anchor=\"middle\" x=\"999.5\" y=\"-377.8\" font-family=\"Helvetica,sans-Serif\" font-size=\"14.00\">value = [[10.643]</text>\n<text text-anchor=\"middle\" x=\"999.5\" y=\"-362.8\" font-family=\"Helvetica,sans-Serif\" font-size=\"14.00\">[10.755]</text>\n<text text-anchor=\"middle\" x=\"999.5\" y=\"-347.8\" font-family=\"Helvetica,sans-Serif\" font-size=\"14.00\">[10.807]]</text>\n</g>\n<!-- 0&#45;&gt;28 -->\n<g id=\"edge12\" class=\"edge\">\n<title>0&#45;&gt;28</title>\n<path fill=\"none\" stroke=\"black\" d=\"M900.26,-473.97C911.44,-464.51 923.26,-454.51 934.68,-444.84\"/>\n<polygon fill=\"black\" stroke=\"black\" points=\"937.15,-447.35 942.52,-438.21 932.63,-442 937.15,-447.35\"/>\n<text text-anchor=\"middle\" x=\"940.44\" y=\"-459.43\" font-family=\"Helvetica,sans-Serif\" font-size=\"14.00\">False</text>\n</g>\n<!-- 2 -->\n<g id=\"node3\" class=\"node\">\n<title>2</title>\n<path fill=\"#eeae80\" stroke=\"black\" d=\"M450,-304C450,-304 321,-304 321,-304 315,-304 309,-298 309,-292 309,-292 309,-218 309,-218 309,-212 315,-206 321,-206 321,-206 450,-206 450,-206 456,-206 462,-212 462,-218 462,-218 462,-292 462,-292 462,-298 456,-304 450,-304\"/>\n<text text-anchor=\"middle\" x=\"385.5\" y=\"-288.8\" font-family=\"Helvetica,sans-Serif\" font-size=\"14.00\">Average pH &lt;= 14.302</text>\n<text text-anchor=\"middle\" x=\"385.5\" y=\"-273.8\" font-family=\"Helvetica,sans-Serif\" font-size=\"14.00\">squared_error = 0.044</text>\n<text text-anchor=\"middle\" x=\"385.5\" y=\"-258.8\" font-family=\"Helvetica,sans-Serif\" font-size=\"14.00\">samples = 12</text>\n<text text-anchor=\"middle\" x=\"385.5\" y=\"-243.8\" font-family=\"Helvetica,sans-Serif\" font-size=\"14.00\">value = [[11.071]</text>\n<text text-anchor=\"middle\" x=\"385.5\" y=\"-228.8\" font-family=\"Helvetica,sans-Serif\" font-size=\"14.00\">[11.069]</text>\n<text text-anchor=\"middle\" x=\"385.5\" y=\"-213.8\" font-family=\"Helvetica,sans-Serif\" font-size=\"14.00\">[10.262]]</text>\n</g>\n<!-- 1&#45;&gt;2 -->\n<g id=\"edge2\" class=\"edge\">\n<title>1&#45;&gt;2</title>\n<path fill=\"none\" stroke=\"black\" d=\"M587.94,-341.65C549.9,-325.55 507.81,-307.75 471.9,-292.56\"/>\n<polygon fill=\"black\" stroke=\"black\" points=\"473.01,-289.22 462.43,-288.55 470.28,-295.67 473.01,-289.22\"/>\n</g>\n<!-- 25 -->\n<g id=\"node10\" class=\"node\">\n<title>25</title>\n<path fill=\"#e68843\" stroke=\"black\" d=\"M840.5,-304C840.5,-304 554.5,-304 554.5,-304 548.5,-304 542.5,-298 542.5,-292 542.5,-292 542.5,-218 542.5,-218 542.5,-212 548.5,-206 554.5,-206 554.5,-206 840.5,-206 840.5,-206 846.5,-206 852.5,-212 852.5,-218 852.5,-218 852.5,-292 852.5,-292 852.5,-298 846.5,-304 840.5,-304\"/>\n<text text-anchor=\"middle\" x=\"697.5\" y=\"-288.8\" font-family=\"Helvetica,sans-Serif\" font-size=\"14.00\">Average Specific Conductance μS/cm &lt;= 118.37</text>\n<text text-anchor=\"middle\" x=\"697.5\" y=\"-273.8\" font-family=\"Helvetica,sans-Serif\" font-size=\"14.00\">squared_error = 0.006</text>\n<text text-anchor=\"middle\" x=\"697.5\" y=\"-258.8\" font-family=\"Helvetica,sans-Serif\" font-size=\"14.00\">samples = 2</text>\n<text text-anchor=\"middle\" x=\"697.5\" y=\"-243.8\" font-family=\"Helvetica,sans-Serif\" font-size=\"14.00\">value = [[10.357]</text>\n<text text-anchor=\"middle\" x=\"697.5\" y=\"-228.8\" font-family=\"Helvetica,sans-Serif\" font-size=\"14.00\">[10.767]</text>\n<text text-anchor=\"middle\" x=\"697.5\" y=\"-213.8\" font-family=\"Helvetica,sans-Serif\" font-size=\"14.00\">[9.592]]</text>\n</g>\n<!-- 1&#45;&gt;25 -->\n<g id=\"edge9\" class=\"edge\">\n<title>1&#45;&gt;25</title>\n<path fill=\"none\" stroke=\"black\" d=\"M697.5,-339.97C697.5,-331.69 697.5,-323 697.5,-314.48\"/>\n<polygon fill=\"black\" stroke=\"black\" points=\"701,-314.21 697.5,-304.21 694,-314.21 701,-314.21\"/>\n</g>\n<!-- 3 -->\n<g id=\"node4\" class=\"node\">\n<title>3</title>\n<path fill=\"#eb9c63\" stroke=\"black\" d=\"M233,-170C233,-170 12,-170 12,-170 6,-170 0,-164 0,-158 0,-158 0,-84 0,-84 0,-78 6,-72 12,-72 12,-72 233,-72 233,-72 239,-72 245,-78 245,-84 245,-84 245,-158 245,-158 245,-164 239,-170 233,-170\"/>\n<text text-anchor=\"middle\" x=\"122.5\" y=\"-154.8\" font-family=\"Helvetica,sans-Serif\" font-size=\"14.00\">Average Dissolved Oxygen &lt;= 11.191</text>\n<text text-anchor=\"middle\" x=\"122.5\" y=\"-139.8\" font-family=\"Helvetica,sans-Serif\" font-size=\"14.00\">squared_error = 0.026</text>\n<text text-anchor=\"middle\" x=\"122.5\" y=\"-124.8\" font-family=\"Helvetica,sans-Serif\" font-size=\"14.00\">samples = 6</text>\n<text text-anchor=\"middle\" x=\"122.5\" y=\"-109.8\" font-family=\"Helvetica,sans-Serif\" font-size=\"14.00\">value = [[11.165]</text>\n<text text-anchor=\"middle\" x=\"122.5\" y=\"-94.8\" font-family=\"Helvetica,sans-Serif\" font-size=\"14.00\">[11.103]</text>\n<text text-anchor=\"middle\" x=\"122.5\" y=\"-79.8\" font-family=\"Helvetica,sans-Serif\" font-size=\"14.00\">[10.602]]</text>\n</g>\n<!-- 2&#45;&gt;3 -->\n<g id=\"edge3\" class=\"edge\">\n<title>2&#45;&gt;3</title>\n<path fill=\"none\" stroke=\"black\" d=\"M308.72,-215.47C283.39,-202.75 254.75,-188.38 227.67,-174.78\"/>\n<polygon fill=\"black\" stroke=\"black\" points=\"229.06,-171.57 218.55,-170.21 225.92,-177.82 229.06,-171.57\"/>\n</g>\n<!-- 14 -->\n<g id=\"node7\" class=\"node\">\n<title>14</title>\n<path fill=\"#e99457\" stroke=\"black\" d=\"M496,-170C496,-170 275,-170 275,-170 269,-170 263,-164 263,-158 263,-158 263,-84 263,-84 263,-78 269,-72 275,-72 275,-72 496,-72 496,-72 502,-72 508,-78 508,-84 508,-84 508,-158 508,-158 508,-164 502,-170 496,-170\"/>\n<text text-anchor=\"middle\" x=\"385.5\" y=\"-154.8\" font-family=\"Helvetica,sans-Serif\" font-size=\"14.00\">Average Dissolved Oxygen &lt;= 11.045</text>\n<text text-anchor=\"middle\" x=\"385.5\" y=\"-139.8\" font-family=\"Helvetica,sans-Serif\" font-size=\"14.00\">squared_error = 0.019</text>\n<text text-anchor=\"middle\" x=\"385.5\" y=\"-124.8\" font-family=\"Helvetica,sans-Serif\" font-size=\"14.00\">samples = 6</text>\n<text text-anchor=\"middle\" x=\"385.5\" y=\"-109.8\" font-family=\"Helvetica,sans-Serif\" font-size=\"14.00\">value = [[11.021]</text>\n<text text-anchor=\"middle\" x=\"385.5\" y=\"-94.8\" font-family=\"Helvetica,sans-Serif\" font-size=\"14.00\">[11.051]</text>\n<text text-anchor=\"middle\" x=\"385.5\" y=\"-79.8\" font-family=\"Helvetica,sans-Serif\" font-size=\"14.00\">[10.08]]</text>\n</g>\n<!-- 2&#45;&gt;14 -->\n<g id=\"edge6\" class=\"edge\">\n<title>2&#45;&gt;14</title>\n<path fill=\"none\" stroke=\"black\" d=\"M385.5,-205.97C385.5,-197.69 385.5,-189 385.5,-180.48\"/>\n<polygon fill=\"black\" stroke=\"black\" points=\"389,-180.21 385.5,-170.21 382,-180.21 389,-180.21\"/>\n</g>\n<!-- 4 -->\n<g id=\"node5\" class=\"node\">\n<title>4</title>\n<path fill=\"#c0c0c0\" stroke=\"black\" d=\"M101.5,-36C101.5,-36 71.5,-36 71.5,-36 65.5,-36 59.5,-30 59.5,-24 59.5,-24 59.5,-12 59.5,-12 59.5,-6 65.5,0 71.5,0 71.5,0 101.5,0 101.5,0 107.5,0 113.5,-6 113.5,-12 113.5,-12 113.5,-24 113.5,-24 113.5,-30 107.5,-36 101.5,-36\"/>\n<text text-anchor=\"middle\" x=\"86.5\" y=\"-14.3\" font-family=\"Helvetica,sans-Serif\" font-size=\"14.00\">(...)</text>\n</g>\n<!-- 3&#45;&gt;4 -->\n<g id=\"edge4\" class=\"edge\">\n<title>3&#45;&gt;4</title>\n<path fill=\"none\" stroke=\"black\" d=\"M105.34,-71.87C102.13,-62.86 98.89,-53.76 96.02,-45.71\"/>\n<polygon fill=\"black\" stroke=\"black\" points=\"99.27,-44.39 92.61,-36.15 92.67,-46.74 99.27,-44.39\"/>\n</g>\n<!-- 11 -->\n<g id=\"node6\" class=\"node\">\n<title>11</title>\n<path fill=\"#c0c0c0\" stroke=\"black\" d=\"M173.5,-36C173.5,-36 143.5,-36 143.5,-36 137.5,-36 131.5,-30 131.5,-24 131.5,-24 131.5,-12 131.5,-12 131.5,-6 137.5,0 143.5,0 143.5,0 173.5,0 173.5,0 179.5,0 185.5,-6 185.5,-12 185.5,-12 185.5,-24 185.5,-24 185.5,-30 179.5,-36 173.5,-36\"/>\n<text text-anchor=\"middle\" x=\"158.5\" y=\"-14.3\" font-family=\"Helvetica,sans-Serif\" font-size=\"14.00\">(...)</text>\n</g>\n<!-- 3&#45;&gt;11 -->\n<g id=\"edge5\" class=\"edge\">\n<title>3&#45;&gt;11</title>\n<path fill=\"none\" stroke=\"black\" d=\"M139.66,-71.87C142.87,-62.86 146.11,-53.76 148.98,-45.71\"/>\n<polygon fill=\"black\" stroke=\"black\" points=\"152.33,-46.74 152.39,-36.15 145.73,-44.39 152.33,-46.74\"/>\n</g>\n<!-- 15 -->\n<g id=\"node8\" class=\"node\">\n<title>15</title>\n<path fill=\"#c0c0c0\" stroke=\"black\" d=\"M364.5,-36C364.5,-36 334.5,-36 334.5,-36 328.5,-36 322.5,-30 322.5,-24 322.5,-24 322.5,-12 322.5,-12 322.5,-6 328.5,0 334.5,0 334.5,0 364.5,0 364.5,0 370.5,0 376.5,-6 376.5,-12 376.5,-12 376.5,-24 376.5,-24 376.5,-30 370.5,-36 364.5,-36\"/>\n<text text-anchor=\"middle\" x=\"349.5\" y=\"-14.3\" font-family=\"Helvetica,sans-Serif\" font-size=\"14.00\">(...)</text>\n</g>\n<!-- 14&#45;&gt;15 -->\n<g id=\"edge7\" class=\"edge\">\n<title>14&#45;&gt;15</title>\n<path fill=\"none\" stroke=\"black\" d=\"M368.34,-71.87C365.13,-62.86 361.89,-53.76 359.02,-45.71\"/>\n<polygon fill=\"black\" stroke=\"black\" points=\"362.27,-44.39 355.61,-36.15 355.67,-46.74 362.27,-44.39\"/>\n</g>\n<!-- 22 -->\n<g id=\"node9\" class=\"node\">\n<title>22</title>\n<path fill=\"#c0c0c0\" stroke=\"black\" d=\"M436.5,-36C436.5,-36 406.5,-36 406.5,-36 400.5,-36 394.5,-30 394.5,-24 394.5,-24 394.5,-12 394.5,-12 394.5,-6 400.5,0 406.5,0 406.5,0 436.5,0 436.5,0 442.5,0 448.5,-6 448.5,-12 448.5,-12 448.5,-24 448.5,-24 448.5,-30 442.5,-36 436.5,-36\"/>\n<text text-anchor=\"middle\" x=\"421.5\" y=\"-14.3\" font-family=\"Helvetica,sans-Serif\" font-size=\"14.00\">(...)</text>\n</g>\n<!-- 14&#45;&gt;22 -->\n<g id=\"edge8\" class=\"edge\">\n<title>14&#45;&gt;22</title>\n<path fill=\"none\" stroke=\"black\" d=\"M402.66,-71.87C405.87,-62.86 409.11,-53.76 411.98,-45.71\"/>\n<polygon fill=\"black\" stroke=\"black\" points=\"415.33,-46.74 415.39,-36.15 408.73,-44.39 415.33,-46.74\"/>\n</g>\n<!-- 26 -->\n<g id=\"node11\" class=\"node\">\n<title>26</title>\n<path fill=\"#e58139\" stroke=\"black\" d=\"M650.5,-162.5C650.5,-162.5 538.5,-162.5 538.5,-162.5 532.5,-162.5 526.5,-156.5 526.5,-150.5 526.5,-150.5 526.5,-91.5 526.5,-91.5 526.5,-85.5 532.5,-79.5 538.5,-79.5 538.5,-79.5 650.5,-79.5 650.5,-79.5 656.5,-79.5 662.5,-85.5 662.5,-91.5 662.5,-91.5 662.5,-150.5 662.5,-150.5 662.5,-156.5 656.5,-162.5 650.5,-162.5\"/>\n<text text-anchor=\"middle\" x=\"594.5\" y=\"-147.3\" font-family=\"Helvetica,sans-Serif\" font-size=\"14.00\">squared_error = 0.0</text>\n<text text-anchor=\"middle\" x=\"594.5\" y=\"-132.3\" font-family=\"Helvetica,sans-Serif\" font-size=\"14.00\">samples = 1</text>\n<text text-anchor=\"middle\" x=\"594.5\" y=\"-117.3\" font-family=\"Helvetica,sans-Serif\" font-size=\"14.00\">value = [[10.397]</text>\n<text text-anchor=\"middle\" x=\"594.5\" y=\"-102.3\" font-family=\"Helvetica,sans-Serif\" font-size=\"14.00\">[10.747]</text>\n<text text-anchor=\"middle\" x=\"594.5\" y=\"-87.3\" font-family=\"Helvetica,sans-Serif\" font-size=\"14.00\">[9.68]]</text>\n</g>\n<!-- 25&#45;&gt;26 -->\n<g id=\"edge10\" class=\"edge\">\n<title>25&#45;&gt;26</title>\n<path fill=\"none\" stroke=\"black\" d=\"M660.02,-205.97C651.14,-194.58 641.65,-182.42 632.73,-170.99\"/>\n<polygon fill=\"black\" stroke=\"black\" points=\"635.26,-168.55 626.35,-162.82 629.74,-172.85 635.26,-168.55\"/>\n</g>\n<!-- 27 -->\n<g id=\"node12\" class=\"node\">\n<title>27</title>\n<path fill=\"#e58139\" stroke=\"black\" d=\"M808.5,-162.5C808.5,-162.5 692.5,-162.5 692.5,-162.5 686.5,-162.5 680.5,-156.5 680.5,-150.5 680.5,-150.5 680.5,-91.5 680.5,-91.5 680.5,-85.5 686.5,-79.5 692.5,-79.5 692.5,-79.5 808.5,-79.5 808.5,-79.5 814.5,-79.5 820.5,-85.5 820.5,-91.5 820.5,-91.5 820.5,-150.5 820.5,-150.5 820.5,-156.5 814.5,-162.5 808.5,-162.5\"/>\n<text text-anchor=\"middle\" x=\"750.5\" y=\"-147.3\" font-family=\"Helvetica,sans-Serif\" font-size=\"14.00\">squared_error = &#45;0.0</text>\n<text text-anchor=\"middle\" x=\"750.5\" y=\"-132.3\" font-family=\"Helvetica,sans-Serif\" font-size=\"14.00\">samples = 1</text>\n<text text-anchor=\"middle\" x=\"750.5\" y=\"-117.3\" font-family=\"Helvetica,sans-Serif\" font-size=\"14.00\">value = [[10.278]</text>\n<text text-anchor=\"middle\" x=\"750.5\" y=\"-102.3\" font-family=\"Helvetica,sans-Serif\" font-size=\"14.00\">[10.806]</text>\n<text text-anchor=\"middle\" x=\"750.5\" y=\"-87.3\" font-family=\"Helvetica,sans-Serif\" font-size=\"14.00\">[9.417]]</text>\n</g>\n<!-- 25&#45;&gt;27 -->\n<g id=\"edge11\" class=\"edge\">\n<title>25&#45;&gt;27</title>\n<path fill=\"none\" stroke=\"black\" d=\"M716.78,-205.97C721.18,-195.02 725.86,-183.36 730.29,-172.32\"/>\n<polygon fill=\"black\" stroke=\"black\" points=\"733.63,-173.4 734.11,-162.82 727.14,-170.79 733.63,-173.4\"/>\n</g>\n<!-- 29 -->\n<g id=\"node14\" class=\"node\">\n<title>29</title>\n<path fill=\"#efb489\" stroke=\"black\" d=\"M1106.5,-304C1106.5,-304 892.5,-304 892.5,-304 886.5,-304 880.5,-298 880.5,-292 880.5,-292 880.5,-218 880.5,-218 880.5,-212 886.5,-206 892.5,-206 892.5,-206 1106.5,-206 1106.5,-206 1112.5,-206 1118.5,-212 1118.5,-218 1118.5,-218 1118.5,-292 1118.5,-292 1118.5,-298 1112.5,-304 1106.5,-304\"/>\n<text text-anchor=\"middle\" x=\"999.5\" y=\"-288.8\" font-family=\"Helvetica,sans-Serif\" font-size=\"14.00\">Average Dissolved Oxygen &lt;= 10.04</text>\n<text text-anchor=\"middle\" x=\"999.5\" y=\"-273.8\" font-family=\"Helvetica,sans-Serif\" font-size=\"14.00\">squared_error = 0.049</text>\n<text text-anchor=\"middle\" x=\"999.5\" y=\"-258.8\" font-family=\"Helvetica,sans-Serif\" font-size=\"14.00\">samples = 13</text>\n<text text-anchor=\"middle\" x=\"999.5\" y=\"-243.8\" font-family=\"Helvetica,sans-Serif\" font-size=\"14.00\">value = [[10.38]</text>\n<text text-anchor=\"middle\" x=\"999.5\" y=\"-228.8\" font-family=\"Helvetica,sans-Serif\" font-size=\"14.00\">[10.714]</text>\n<text text-anchor=\"middle\" x=\"999.5\" y=\"-213.8\" font-family=\"Helvetica,sans-Serif\" font-size=\"14.00\">[11.05]]</text>\n</g>\n<!-- 28&#45;&gt;29 -->\n<g id=\"edge13\" class=\"edge\">\n<title>28&#45;&gt;29</title>\n<path fill=\"none\" stroke=\"black\" d=\"M999.5,-339.97C999.5,-331.69 999.5,-323 999.5,-314.48\"/>\n<polygon fill=\"black\" stroke=\"black\" points=\"1003,-314.21 999.5,-304.21 996,-314.21 1003,-314.21\"/>\n</g>\n<!-- 54 -->\n<g id=\"node21\" class=\"node\">\n<title>54</title>\n<path fill=\"#f0b78e\" stroke=\"black\" d=\"M1527,-304C1527,-304 1234,-304 1234,-304 1228,-304 1222,-298 1222,-292 1222,-292 1222,-218 1222,-218 1222,-212 1228,-206 1234,-206 1234,-206 1527,-206 1527,-206 1533,-206 1539,-212 1539,-218 1539,-218 1539,-292 1539,-292 1539,-298 1533,-304 1527,-304\"/>\n<text text-anchor=\"middle\" x=\"1380.5\" y=\"-288.8\" font-family=\"Helvetica,sans-Serif\" font-size=\"14.00\">Average Specific Conductance μS/cm &lt;= 136.014</text>\n<text text-anchor=\"middle\" x=\"1380.5\" y=\"-273.8\" font-family=\"Helvetica,sans-Serif\" font-size=\"14.00\">squared_error = 0.052</text>\n<text text-anchor=\"middle\" x=\"1380.5\" y=\"-258.8\" font-family=\"Helvetica,sans-Serif\" font-size=\"14.00\">samples = 20</text>\n<text text-anchor=\"middle\" x=\"1380.5\" y=\"-243.8\" font-family=\"Helvetica,sans-Serif\" font-size=\"14.00\">value = [[10.815]</text>\n<text text-anchor=\"middle\" x=\"1380.5\" y=\"-228.8\" font-family=\"Helvetica,sans-Serif\" font-size=\"14.00\">[10.782]</text>\n<text text-anchor=\"middle\" x=\"1380.5\" y=\"-213.8\" font-family=\"Helvetica,sans-Serif\" font-size=\"14.00\">[10.648]]</text>\n</g>\n<!-- 28&#45;&gt;54 -->\n<g id=\"edge20\" class=\"edge\">\n<title>28&#45;&gt;54</title>\n<path fill=\"none\" stroke=\"black\" d=\"M1122.15,-345.51C1157.19,-333.37 1195.76,-320 1232.17,-307.39\"/>\n<polygon fill=\"black\" stroke=\"black\" points=\"1233.57,-310.61 1241.87,-304.03 1231.28,-303.99 1233.57,-310.61\"/>\n</g>\n<!-- 30 -->\n<g id=\"node15\" class=\"node\">\n<title>30</title>\n<path fill=\"#e99254\" stroke=\"black\" d=\"M1044.5,-170C1044.5,-170 850.5,-170 850.5,-170 844.5,-170 838.5,-164 838.5,-158 838.5,-158 838.5,-84 838.5,-84 838.5,-78 844.5,-72 850.5,-72 850.5,-72 1044.5,-72 1044.5,-72 1050.5,-72 1056.5,-78 1056.5,-84 1056.5,-84 1056.5,-158 1056.5,-158 1056.5,-164 1050.5,-170 1044.5,-170\"/>\n<text text-anchor=\"middle\" x=\"947.5\" y=\"-154.8\" font-family=\"Helvetica,sans-Serif\" font-size=\"14.00\">Average Temperature C &lt;= 7.513</text>\n<text text-anchor=\"middle\" x=\"947.5\" y=\"-139.8\" font-family=\"Helvetica,sans-Serif\" font-size=\"14.00\">squared_error = 0.017</text>\n<text text-anchor=\"middle\" x=\"947.5\" y=\"-124.8\" font-family=\"Helvetica,sans-Serif\" font-size=\"14.00\">samples = 4</text>\n<text text-anchor=\"middle\" x=\"947.5\" y=\"-109.8\" font-family=\"Helvetica,sans-Serif\" font-size=\"14.00\">value = [[9.934]</text>\n<text text-anchor=\"middle\" x=\"947.5\" y=\"-94.8\" font-family=\"Helvetica,sans-Serif\" font-size=\"14.00\">[10.59]</text>\n<text text-anchor=\"middle\" x=\"947.5\" y=\"-79.8\" font-family=\"Helvetica,sans-Serif\" font-size=\"14.00\">[11.292]]</text>\n</g>\n<!-- 29&#45;&gt;30 -->\n<g id=\"edge14\" class=\"edge\">\n<title>29&#45;&gt;30</title>\n<path fill=\"none\" stroke=\"black\" d=\"M980.58,-205.97C977.21,-197.42 973.67,-188.43 970.21,-179.64\"/>\n<polygon fill=\"black\" stroke=\"black\" points=\"973.42,-178.24 966.49,-170.21 966.9,-180.8 973.42,-178.24\"/>\n</g>\n<!-- 37 -->\n<g id=\"node18\" class=\"node\">\n<title>37</title>\n<path fill=\"#eb9d65\" stroke=\"black\" d=\"M1274,-170C1274,-170 1087,-170 1087,-170 1081,-170 1075,-164 1075,-158 1075,-158 1075,-84 1075,-84 1075,-78 1081,-72 1087,-72 1087,-72 1274,-72 1274,-72 1280,-72 1286,-78 1286,-84 1286,-84 1286,-158 1286,-158 1286,-164 1280,-170 1274,-170\"/>\n<text text-anchor=\"middle\" x=\"1180.5\" y=\"-154.8\" font-family=\"Helvetica,sans-Serif\" font-size=\"14.00\">Average Temperature C &lt;= 7.55</text>\n<text text-anchor=\"middle\" x=\"1180.5\" y=\"-139.8\" font-family=\"Helvetica,sans-Serif\" font-size=\"14.00\">squared_error = 0.027</text>\n<text text-anchor=\"middle\" x=\"1180.5\" y=\"-124.8\" font-family=\"Helvetica,sans-Serif\" font-size=\"14.00\">samples = 9</text>\n<text text-anchor=\"middle\" x=\"1180.5\" y=\"-109.8\" font-family=\"Helvetica,sans-Serif\" font-size=\"14.00\">value = [[10.499]</text>\n<text text-anchor=\"middle\" x=\"1180.5\" y=\"-94.8\" font-family=\"Helvetica,sans-Serif\" font-size=\"14.00\">[10.747]</text>\n<text text-anchor=\"middle\" x=\"1180.5\" y=\"-79.8\" font-family=\"Helvetica,sans-Serif\" font-size=\"14.00\">[10.985]]</text>\n</g>\n<!-- 29&#45;&gt;37 -->\n<g id=\"edge17\" class=\"edge\">\n<title>29&#45;&gt;37</title>\n<path fill=\"none\" stroke=\"black\" d=\"M1065.36,-205.97C1078.58,-196.33 1092.57,-186.13 1106.06,-176.29\"/>\n<polygon fill=\"black\" stroke=\"black\" points=\"1108.37,-178.93 1114.39,-170.21 1104.25,-173.28 1108.37,-178.93\"/>\n</g>\n<!-- 31 -->\n<g id=\"node16\" class=\"node\">\n<title>31</title>\n<path fill=\"#c0c0c0\" stroke=\"black\" d=\"M926.5,-36C926.5,-36 896.5,-36 896.5,-36 890.5,-36 884.5,-30 884.5,-24 884.5,-24 884.5,-12 884.5,-12 884.5,-6 890.5,0 896.5,0 896.5,0 926.5,0 926.5,0 932.5,0 938.5,-6 938.5,-12 938.5,-12 938.5,-24 938.5,-24 938.5,-30 932.5,-36 926.5,-36\"/>\n<text text-anchor=\"middle\" x=\"911.5\" y=\"-14.3\" font-family=\"Helvetica,sans-Serif\" font-size=\"14.00\">(...)</text>\n</g>\n<!-- 30&#45;&gt;31 -->\n<g id=\"edge15\" class=\"edge\">\n<title>30&#45;&gt;31</title>\n<path fill=\"none\" stroke=\"black\" d=\"M930.34,-71.87C927.13,-62.86 923.89,-53.76 921.02,-45.71\"/>\n<polygon fill=\"black\" stroke=\"black\" points=\"924.27,-44.39 917.61,-36.15 917.67,-46.74 924.27,-44.39\"/>\n</g>\n<!-- 32 -->\n<g id=\"node17\" class=\"node\">\n<title>32</title>\n<path fill=\"#c0c0c0\" stroke=\"black\" d=\"M998.5,-36C998.5,-36 968.5,-36 968.5,-36 962.5,-36 956.5,-30 956.5,-24 956.5,-24 956.5,-12 956.5,-12 956.5,-6 962.5,0 968.5,0 968.5,0 998.5,0 998.5,0 1004.5,0 1010.5,-6 1010.5,-12 1010.5,-12 1010.5,-24 1010.5,-24 1010.5,-30 1004.5,-36 998.5,-36\"/>\n<text text-anchor=\"middle\" x=\"983.5\" y=\"-14.3\" font-family=\"Helvetica,sans-Serif\" font-size=\"14.00\">(...)</text>\n</g>\n<!-- 30&#45;&gt;32 -->\n<g id=\"edge16\" class=\"edge\">\n<title>30&#45;&gt;32</title>\n<path fill=\"none\" stroke=\"black\" d=\"M964.66,-71.87C967.87,-62.86 971.11,-53.76 973.98,-45.71\"/>\n<polygon fill=\"black\" stroke=\"black\" points=\"977.33,-46.74 977.39,-36.15 970.73,-44.39 977.33,-46.74\"/>\n</g>\n<!-- 38 -->\n<g id=\"node19\" class=\"node\">\n<title>38</title>\n<path fill=\"#c0c0c0\" stroke=\"black\" d=\"M1151.5,-36C1151.5,-36 1121.5,-36 1121.5,-36 1115.5,-36 1109.5,-30 1109.5,-24 1109.5,-24 1109.5,-12 1109.5,-12 1109.5,-6 1115.5,0 1121.5,0 1121.5,0 1151.5,0 1151.5,0 1157.5,0 1163.5,-6 1163.5,-12 1163.5,-12 1163.5,-24 1163.5,-24 1163.5,-30 1157.5,-36 1151.5,-36\"/>\n<text text-anchor=\"middle\" x=\"1136.5\" y=\"-14.3\" font-family=\"Helvetica,sans-Serif\" font-size=\"14.00\">(...)</text>\n</g>\n<!-- 37&#45;&gt;38 -->\n<g id=\"edge18\" class=\"edge\">\n<title>37&#45;&gt;38</title>\n<path fill=\"none\" stroke=\"black\" d=\"M1159.53,-71.87C1155.57,-62.76 1151.56,-53.56 1148.02,-45.44\"/>\n<polygon fill=\"black\" stroke=\"black\" points=\"1151.17,-43.92 1143.97,-36.15 1144.76,-46.71 1151.17,-43.92\"/>\n</g>\n<!-- 45 -->\n<g id=\"node20\" class=\"node\">\n<title>45</title>\n<path fill=\"#c0c0c0\" stroke=\"black\" d=\"M1223.5,-36C1223.5,-36 1193.5,-36 1193.5,-36 1187.5,-36 1181.5,-30 1181.5,-24 1181.5,-24 1181.5,-12 1181.5,-12 1181.5,-6 1187.5,0 1193.5,0 1193.5,0 1223.5,0 1223.5,0 1229.5,0 1235.5,-6 1235.5,-12 1235.5,-12 1235.5,-24 1235.5,-24 1235.5,-30 1229.5,-36 1223.5,-36\"/>\n<text text-anchor=\"middle\" x=\"1208.5\" y=\"-14.3\" font-family=\"Helvetica,sans-Serif\" font-size=\"14.00\">(...)</text>\n</g>\n<!-- 37&#45;&gt;45 -->\n<g id=\"edge19\" class=\"edge\">\n<title>37&#45;&gt;45</title>\n<path fill=\"none\" stroke=\"black\" d=\"M1193.84,-71.87C1196.31,-62.96 1198.81,-53.96 1201.02,-45.97\"/>\n<polygon fill=\"black\" stroke=\"black\" points=\"1204.45,-46.72 1203.75,-36.15 1197.7,-44.85 1204.45,-46.72\"/>\n</g>\n<!-- 55 -->\n<g id=\"node22\" class=\"node\">\n<title>55</title>\n<path fill=\"#efb285\" stroke=\"black\" d=\"M1445,-170C1445,-170 1316,-170 1316,-170 1310,-170 1304,-164 1304,-158 1304,-158 1304,-84 1304,-84 1304,-78 1310,-72 1316,-72 1316,-72 1445,-72 1445,-72 1451,-72 1457,-78 1457,-84 1457,-84 1457,-158 1457,-158 1457,-164 1451,-170 1445,-170\"/>\n<text text-anchor=\"middle\" x=\"1380.5\" y=\"-154.8\" font-family=\"Helvetica,sans-Serif\" font-size=\"14.00\">Average pH &lt;= 26.134</text>\n<text text-anchor=\"middle\" x=\"1380.5\" y=\"-139.8\" font-family=\"Helvetica,sans-Serif\" font-size=\"14.00\">squared_error = 0.047</text>\n<text text-anchor=\"middle\" x=\"1380.5\" y=\"-124.8\" font-family=\"Helvetica,sans-Serif\" font-size=\"14.00\">samples = 12</text>\n<text text-anchor=\"middle\" x=\"1380.5\" y=\"-109.8\" font-family=\"Helvetica,sans-Serif\" font-size=\"14.00\">value = [[10.763]</text>\n<text text-anchor=\"middle\" x=\"1380.5\" y=\"-94.8\" font-family=\"Helvetica,sans-Serif\" font-size=\"14.00\">[10.588]</text>\n<text text-anchor=\"middle\" x=\"1380.5\" y=\"-79.8\" font-family=\"Helvetica,sans-Serif\" font-size=\"14.00\">[10.541]]</text>\n</g>\n<!-- 54&#45;&gt;55 -->\n<g id=\"edge21\" class=\"edge\">\n<title>54&#45;&gt;55</title>\n<path fill=\"none\" stroke=\"black\" d=\"M1380.5,-205.97C1380.5,-197.69 1380.5,-189 1380.5,-180.48\"/>\n<polygon fill=\"black\" stroke=\"black\" points=\"1384,-180.21 1380.5,-170.21 1377,-180.21 1384,-180.21\"/>\n</g>\n<!-- 78 -->\n<g id=\"node25\" class=\"node\">\n<title>78</title>\n<path fill=\"#e78d4c\" stroke=\"black\" d=\"M1746,-170C1746,-170 1487,-170 1487,-170 1481,-170 1475,-164 1475,-158 1475,-158 1475,-84 1475,-84 1475,-78 1481,-72 1487,-72 1487,-72 1746,-72 1746,-72 1752,-72 1758,-78 1758,-84 1758,-84 1758,-158 1758,-158 1758,-164 1752,-170 1746,-170\"/>\n<text text-anchor=\"middle\" x=\"1616.5\" y=\"-154.8\" font-family=\"Helvetica,sans-Serif\" font-size=\"14.00\">Average Specific Conductance μS/cm &lt;= inf</text>\n<text text-anchor=\"middle\" x=\"1616.5\" y=\"-139.8\" font-family=\"Helvetica,sans-Serif\" font-size=\"14.00\">squared_error = 0.012</text>\n<text text-anchor=\"middle\" x=\"1616.5\" y=\"-124.8\" font-family=\"Helvetica,sans-Serif\" font-size=\"14.00\">samples = 8</text>\n<text text-anchor=\"middle\" x=\"1616.5\" y=\"-109.8\" font-family=\"Helvetica,sans-Serif\" font-size=\"14.00\">value = [[10.879]</text>\n<text text-anchor=\"middle\" x=\"1616.5\" y=\"-94.8\" font-family=\"Helvetica,sans-Serif\" font-size=\"14.00\">[11.02]</text>\n<text text-anchor=\"middle\" x=\"1616.5\" y=\"-79.8\" font-family=\"Helvetica,sans-Serif\" font-size=\"14.00\">[10.779]]</text>\n</g>\n<!-- 54&#45;&gt;78 -->\n<g id=\"edge24\" class=\"edge\">\n<title>54&#45;&gt;78</title>\n<path fill=\"none\" stroke=\"black\" d=\"M1466.37,-205.97C1484.26,-195.96 1503.23,-185.36 1521.43,-175.17\"/>\n<polygon fill=\"black\" stroke=\"black\" points=\"1523.28,-178.15 1530.3,-170.21 1519.86,-172.04 1523.28,-178.15\"/>\n</g>\n<!-- 56 -->\n<g id=\"node23\" class=\"node\">\n<title>56</title>\n<path fill=\"#c0c0c0\" stroke=\"black\" d=\"M1359.5,-36C1359.5,-36 1329.5,-36 1329.5,-36 1323.5,-36 1317.5,-30 1317.5,-24 1317.5,-24 1317.5,-12 1317.5,-12 1317.5,-6 1323.5,0 1329.5,0 1329.5,0 1359.5,0 1359.5,0 1365.5,0 1371.5,-6 1371.5,-12 1371.5,-12 1371.5,-24 1371.5,-24 1371.5,-30 1365.5,-36 1359.5,-36\"/>\n<text text-anchor=\"middle\" x=\"1344.5\" y=\"-14.3\" font-family=\"Helvetica,sans-Serif\" font-size=\"14.00\">(...)</text>\n</g>\n<!-- 55&#45;&gt;56 -->\n<g id=\"edge22\" class=\"edge\">\n<title>55&#45;&gt;56</title>\n<path fill=\"none\" stroke=\"black\" d=\"M1363.34,-71.87C1360.13,-62.86 1356.89,-53.76 1354.02,-45.71\"/>\n<polygon fill=\"black\" stroke=\"black\" points=\"1357.27,-44.39 1350.61,-36.15 1350.67,-46.74 1357.27,-44.39\"/>\n</g>\n<!-- 57 -->\n<g id=\"node24\" class=\"node\">\n<title>57</title>\n<path fill=\"#c0c0c0\" stroke=\"black\" d=\"M1431.5,-36C1431.5,-36 1401.5,-36 1401.5,-36 1395.5,-36 1389.5,-30 1389.5,-24 1389.5,-24 1389.5,-12 1389.5,-12 1389.5,-6 1395.5,0 1401.5,0 1401.5,0 1431.5,0 1431.5,0 1437.5,0 1443.5,-6 1443.5,-12 1443.5,-12 1443.5,-24 1443.5,-24 1443.5,-30 1437.5,-36 1431.5,-36\"/>\n<text text-anchor=\"middle\" x=\"1416.5\" y=\"-14.3\" font-family=\"Helvetica,sans-Serif\" font-size=\"14.00\">(...)</text>\n</g>\n<!-- 55&#45;&gt;57 -->\n<g id=\"edge23\" class=\"edge\">\n<title>55&#45;&gt;57</title>\n<path fill=\"none\" stroke=\"black\" d=\"M1397.66,-71.87C1400.87,-62.86 1404.11,-53.76 1406.98,-45.71\"/>\n<polygon fill=\"black\" stroke=\"black\" points=\"1410.33,-46.74 1410.39,-36.15 1403.73,-44.39 1410.33,-46.74\"/>\n</g>\n<!-- 79 -->\n<g id=\"node26\" class=\"node\">\n<title>79</title>\n<path fill=\"#c0c0c0\" stroke=\"black\" d=\"M1595.5,-36C1595.5,-36 1565.5,-36 1565.5,-36 1559.5,-36 1553.5,-30 1553.5,-24 1553.5,-24 1553.5,-12 1553.5,-12 1553.5,-6 1559.5,0 1565.5,0 1565.5,0 1595.5,0 1595.5,0 1601.5,0 1607.5,-6 1607.5,-12 1607.5,-12 1607.5,-24 1607.5,-24 1607.5,-30 1601.5,-36 1595.5,-36\"/>\n<text text-anchor=\"middle\" x=\"1580.5\" y=\"-14.3\" font-family=\"Helvetica,sans-Serif\" font-size=\"14.00\">(...)</text>\n</g>\n<!-- 78&#45;&gt;79 -->\n<g id=\"edge25\" class=\"edge\">\n<title>78&#45;&gt;79</title>\n<path fill=\"none\" stroke=\"black\" d=\"M1599.34,-71.87C1596.13,-62.86 1592.89,-53.76 1590.02,-45.71\"/>\n<polygon fill=\"black\" stroke=\"black\" points=\"1593.27,-44.39 1586.61,-36.15 1586.67,-46.74 1593.27,-44.39\"/>\n</g>\n<!-- 92 -->\n<g id=\"node27\" class=\"node\">\n<title>92</title>\n<path fill=\"#c0c0c0\" stroke=\"black\" d=\"M1667.5,-36C1667.5,-36 1637.5,-36 1637.5,-36 1631.5,-36 1625.5,-30 1625.5,-24 1625.5,-24 1625.5,-12 1625.5,-12 1625.5,-6 1631.5,0 1637.5,0 1637.5,0 1667.5,0 1667.5,0 1673.5,0 1679.5,-6 1679.5,-12 1679.5,-12 1679.5,-24 1679.5,-24 1679.5,-30 1673.5,-36 1667.5,-36\"/>\n<text text-anchor=\"middle\" x=\"1652.5\" y=\"-14.3\" font-family=\"Helvetica,sans-Serif\" font-size=\"14.00\">(...)</text>\n</g>\n<!-- 78&#45;&gt;92 -->\n<g id=\"edge26\" class=\"edge\">\n<title>78&#45;&gt;92</title>\n<path fill=\"none\" stroke=\"black\" d=\"M1633.66,-71.87C1636.87,-62.86 1640.11,-53.76 1642.98,-45.71\"/>\n<polygon fill=\"black\" stroke=\"black\" points=\"1646.33,-46.74 1646.39,-36.15 1639.73,-44.39 1646.33,-46.74\"/>\n</g>\n</g>\n</svg>\n",
            "text/plain": [
              "<graphviz.sources.Source at 0x79e5ebc1d350>"
            ]
          },
          "metadata": {}
        },
        {
          "output_type": "execute_result",
          "data": {
            "image/svg+xml": "<?xml version=\"1.0\" encoding=\"UTF-8\" standalone=\"no\"?>\n<!DOCTYPE svg PUBLIC \"-//W3C//DTD SVG 1.1//EN\"\n \"http://www.w3.org/Graphics/SVG/1.1/DTD/svg11.dtd\">\n<!-- Generated by graphviz version 2.43.0 (0)\n -->\n<!-- Title: Tree Pages: 1 -->\n<svg width=\"1766pt\" height=\"580pt\"\n viewBox=\"0.00 0.00 1766.00 580.00\" xmlns=\"http://www.w3.org/2000/svg\" xmlns:xlink=\"http://www.w3.org/1999/xlink\">\n<g id=\"graph0\" class=\"graph\" transform=\"scale(1 1) rotate(0) translate(4 576)\">\n<title>Tree</title>\n<polygon fill=\"white\" stroke=\"transparent\" points=\"-4,4 -4,-576 1762,-576 1762,4 -4,4\"/>\n<!-- 0 -->\n<g id=\"node1\" class=\"node\">\n<title>0</title>\n<path fill=\"#ffffff\" stroke=\"black\" d=\"M908,-572C908,-572 779,-572 779,-572 773,-572 767,-566 767,-560 767,-560 767,-486 767,-486 767,-480 773,-474 779,-474 779,-474 908,-474 908,-474 914,-474 920,-480 920,-486 920,-486 920,-560 920,-560 920,-566 914,-572 908,-572\"/>\n<text text-anchor=\"middle\" x=\"843.5\" y=\"-556.8\" font-family=\"Helvetica,sans-Serif\" font-size=\"14.00\">Average pH &lt;= 17.766</text>\n<text text-anchor=\"middle\" x=\"843.5\" y=\"-541.8\" font-family=\"Helvetica,sans-Serif\" font-size=\"14.00\">squared_error = 0.122</text>\n<text text-anchor=\"middle\" x=\"843.5\" y=\"-526.8\" font-family=\"Helvetica,sans-Serif\" font-size=\"14.00\">samples = 47</text>\n<text text-anchor=\"middle\" x=\"843.5\" y=\"-511.8\" font-family=\"Helvetica,sans-Serif\" font-size=\"14.00\">value = [[10.752]</text>\n<text text-anchor=\"middle\" x=\"843.5\" y=\"-496.8\" font-family=\"Helvetica,sans-Serif\" font-size=\"14.00\">[10.844]</text>\n<text text-anchor=\"middle\" x=\"843.5\" y=\"-481.8\" font-family=\"Helvetica,sans-Serif\" font-size=\"14.00\">[10.602]]</text>\n</g>\n<!-- 1 -->\n<g id=\"node2\" class=\"node\">\n<title>1</title>\n<path fill=\"#f6d2b9\" stroke=\"black\" d=\"M795,-438C795,-438 600,-438 600,-438 594,-438 588,-432 588,-426 588,-426 588,-352 588,-352 588,-346 594,-340 600,-340 600,-340 795,-340 795,-340 801,-340 807,-346 807,-352 807,-352 807,-426 807,-426 807,-432 801,-438 795,-438\"/>\n<text text-anchor=\"middle\" x=\"697.5\" y=\"-422.8\" font-family=\"Helvetica,sans-Serif\" font-size=\"14.00\">Average Turbidity FNU &lt;= 12.902</text>\n<text text-anchor=\"middle\" x=\"697.5\" y=\"-407.8\" font-family=\"Helvetica,sans-Serif\" font-size=\"14.00\">squared_error = 0.079</text>\n<text text-anchor=\"middle\" x=\"697.5\" y=\"-392.8\" font-family=\"Helvetica,sans-Serif\" font-size=\"14.00\">samples = 14</text>\n<text text-anchor=\"middle\" x=\"697.5\" y=\"-377.8\" font-family=\"Helvetica,sans-Serif\" font-size=\"14.00\">value = [[10.978]</text>\n<text text-anchor=\"middle\" x=\"697.5\" y=\"-362.8\" font-family=\"Helvetica,sans-Serif\" font-size=\"14.00\">[11.03]</text>\n<text text-anchor=\"middle\" x=\"697.5\" y=\"-347.8\" font-family=\"Helvetica,sans-Serif\" font-size=\"14.00\">[10.175]]</text>\n</g>\n<!-- 0&#45;&gt;1 -->\n<g id=\"edge1\" class=\"edge\">\n<title>0&#45;&gt;1</title>\n<path fill=\"none\" stroke=\"black\" d=\"M790.38,-473.97C780.01,-464.6 769.07,-454.7 758.47,-445.12\"/>\n<polygon fill=\"black\" stroke=\"black\" points=\"760.59,-442.32 750.83,-438.21 755.9,-447.52 760.59,-442.32\"/>\n<text text-anchor=\"middle\" x=\"752.08\" y=\"-459.48\" font-family=\"Helvetica,sans-Serif\" font-size=\"14.00\">True</text>\n</g>\n<!-- 28 -->\n<g id=\"node13\" class=\"node\">\n<title>28</title>\n<path fill=\"#f6d3ba\" stroke=\"black\" d=\"M1110,-438C1110,-438 889,-438 889,-438 883,-438 877,-432 877,-426 877,-426 877,-352 877,-352 877,-346 883,-340 889,-340 889,-340 1110,-340 1110,-340 1116,-340 1122,-346 1122,-352 1122,-352 1122,-426 1122,-426 1122,-432 1116,-438 1110,-438\"/>\n<text text-anchor=\"middle\" x=\"999.5\" y=\"-422.8\" font-family=\"Helvetica,sans-Serif\" font-size=\"14.00\">Average Dissolved Oxygen &lt;= 10.585</text>\n<text text-anchor=\"middle\" x=\"999.5\" y=\"-407.8\" font-family=\"Helvetica,sans-Serif\" font-size=\"14.00\">squared_error = 0.079</text>\n<text text-anchor=\"middle\" x=\"999.5\" y=\"-392.8\" font-family=\"Helvetica,sans-Serif\" font-size=\"14.00\">samples = 33</text>\n<text text-anchor=\"middle\" x=\"999.5\" y=\"-377.8\" font-family=\"Helvetica,sans-Serif\" font-size=\"14.00\">value = [[10.643]</text>\n<text text-anchor=\"middle\" x=\"999.5\" y=\"-362.8\" font-family=\"Helvetica,sans-Serif\" font-size=\"14.00\">[10.755]</text>\n<text text-anchor=\"middle\" x=\"999.5\" y=\"-347.8\" font-family=\"Helvetica,sans-Serif\" font-size=\"14.00\">[10.807]]</text>\n</g>\n<!-- 0&#45;&gt;28 -->\n<g id=\"edge12\" class=\"edge\">\n<title>0&#45;&gt;28</title>\n<path fill=\"none\" stroke=\"black\" d=\"M900.26,-473.97C911.44,-464.51 923.26,-454.51 934.68,-444.84\"/>\n<polygon fill=\"black\" stroke=\"black\" points=\"937.15,-447.35 942.52,-438.21 932.63,-442 937.15,-447.35\"/>\n<text text-anchor=\"middle\" x=\"940.44\" y=\"-459.43\" font-family=\"Helvetica,sans-Serif\" font-size=\"14.00\">False</text>\n</g>\n<!-- 2 -->\n<g id=\"node3\" class=\"node\">\n<title>2</title>\n<path fill=\"#eeae80\" stroke=\"black\" d=\"M450,-304C450,-304 321,-304 321,-304 315,-304 309,-298 309,-292 309,-292 309,-218 309,-218 309,-212 315,-206 321,-206 321,-206 450,-206 450,-206 456,-206 462,-212 462,-218 462,-218 462,-292 462,-292 462,-298 456,-304 450,-304\"/>\n<text text-anchor=\"middle\" x=\"385.5\" y=\"-288.8\" font-family=\"Helvetica,sans-Serif\" font-size=\"14.00\">Average pH &lt;= 14.302</text>\n<text text-anchor=\"middle\" x=\"385.5\" y=\"-273.8\" font-family=\"Helvetica,sans-Serif\" font-size=\"14.00\">squared_error = 0.044</text>\n<text text-anchor=\"middle\" x=\"385.5\" y=\"-258.8\" font-family=\"Helvetica,sans-Serif\" font-size=\"14.00\">samples = 12</text>\n<text text-anchor=\"middle\" x=\"385.5\" y=\"-243.8\" font-family=\"Helvetica,sans-Serif\" font-size=\"14.00\">value = [[11.071]</text>\n<text text-anchor=\"middle\" x=\"385.5\" y=\"-228.8\" font-family=\"Helvetica,sans-Serif\" font-size=\"14.00\">[11.069]</text>\n<text text-anchor=\"middle\" x=\"385.5\" y=\"-213.8\" font-family=\"Helvetica,sans-Serif\" font-size=\"14.00\">[10.262]]</text>\n</g>\n<!-- 1&#45;&gt;2 -->\n<g id=\"edge2\" class=\"edge\">\n<title>1&#45;&gt;2</title>\n<path fill=\"none\" stroke=\"black\" d=\"M587.94,-341.65C549.9,-325.55 507.81,-307.75 471.9,-292.56\"/>\n<polygon fill=\"black\" stroke=\"black\" points=\"473.01,-289.22 462.43,-288.55 470.28,-295.67 473.01,-289.22\"/>\n</g>\n<!-- 25 -->\n<g id=\"node10\" class=\"node\">\n<title>25</title>\n<path fill=\"#e68843\" stroke=\"black\" d=\"M840.5,-304C840.5,-304 554.5,-304 554.5,-304 548.5,-304 542.5,-298 542.5,-292 542.5,-292 542.5,-218 542.5,-218 542.5,-212 548.5,-206 554.5,-206 554.5,-206 840.5,-206 840.5,-206 846.5,-206 852.5,-212 852.5,-218 852.5,-218 852.5,-292 852.5,-292 852.5,-298 846.5,-304 840.5,-304\"/>\n<text text-anchor=\"middle\" x=\"697.5\" y=\"-288.8\" font-family=\"Helvetica,sans-Serif\" font-size=\"14.00\">Average Specific Conductance μS/cm &lt;= 118.37</text>\n<text text-anchor=\"middle\" x=\"697.5\" y=\"-273.8\" font-family=\"Helvetica,sans-Serif\" font-size=\"14.00\">squared_error = 0.006</text>\n<text text-anchor=\"middle\" x=\"697.5\" y=\"-258.8\" font-family=\"Helvetica,sans-Serif\" font-size=\"14.00\">samples = 2</text>\n<text text-anchor=\"middle\" x=\"697.5\" y=\"-243.8\" font-family=\"Helvetica,sans-Serif\" font-size=\"14.00\">value = [[10.357]</text>\n<text text-anchor=\"middle\" x=\"697.5\" y=\"-228.8\" font-family=\"Helvetica,sans-Serif\" font-size=\"14.00\">[10.767]</text>\n<text text-anchor=\"middle\" x=\"697.5\" y=\"-213.8\" font-family=\"Helvetica,sans-Serif\" font-size=\"14.00\">[9.592]]</text>\n</g>\n<!-- 1&#45;&gt;25 -->\n<g id=\"edge9\" class=\"edge\">\n<title>1&#45;&gt;25</title>\n<path fill=\"none\" stroke=\"black\" d=\"M697.5,-339.97C697.5,-331.69 697.5,-323 697.5,-314.48\"/>\n<polygon fill=\"black\" stroke=\"black\" points=\"701,-314.21 697.5,-304.21 694,-314.21 701,-314.21\"/>\n</g>\n<!-- 3 -->\n<g id=\"node4\" class=\"node\">\n<title>3</title>\n<path fill=\"#eb9c63\" stroke=\"black\" d=\"M233,-170C233,-170 12,-170 12,-170 6,-170 0,-164 0,-158 0,-158 0,-84 0,-84 0,-78 6,-72 12,-72 12,-72 233,-72 233,-72 239,-72 245,-78 245,-84 245,-84 245,-158 245,-158 245,-164 239,-170 233,-170\"/>\n<text text-anchor=\"middle\" x=\"122.5\" y=\"-154.8\" font-family=\"Helvetica,sans-Serif\" font-size=\"14.00\">Average Dissolved Oxygen &lt;= 11.191</text>\n<text text-anchor=\"middle\" x=\"122.5\" y=\"-139.8\" font-family=\"Helvetica,sans-Serif\" font-size=\"14.00\">squared_error = 0.026</text>\n<text text-anchor=\"middle\" x=\"122.5\" y=\"-124.8\" font-family=\"Helvetica,sans-Serif\" font-size=\"14.00\">samples = 6</text>\n<text text-anchor=\"middle\" x=\"122.5\" y=\"-109.8\" font-family=\"Helvetica,sans-Serif\" font-size=\"14.00\">value = [[11.165]</text>\n<text text-anchor=\"middle\" x=\"122.5\" y=\"-94.8\" font-family=\"Helvetica,sans-Serif\" font-size=\"14.00\">[11.103]</text>\n<text text-anchor=\"middle\" x=\"122.5\" y=\"-79.8\" font-family=\"Helvetica,sans-Serif\" font-size=\"14.00\">[10.602]]</text>\n</g>\n<!-- 2&#45;&gt;3 -->\n<g id=\"edge3\" class=\"edge\">\n<title>2&#45;&gt;3</title>\n<path fill=\"none\" stroke=\"black\" d=\"M308.72,-215.47C283.39,-202.75 254.75,-188.38 227.67,-174.78\"/>\n<polygon fill=\"black\" stroke=\"black\" points=\"229.06,-171.57 218.55,-170.21 225.92,-177.82 229.06,-171.57\"/>\n</g>\n<!-- 14 -->\n<g id=\"node7\" class=\"node\">\n<title>14</title>\n<path fill=\"#e99457\" stroke=\"black\" d=\"M496,-170C496,-170 275,-170 275,-170 269,-170 263,-164 263,-158 263,-158 263,-84 263,-84 263,-78 269,-72 275,-72 275,-72 496,-72 496,-72 502,-72 508,-78 508,-84 508,-84 508,-158 508,-158 508,-164 502,-170 496,-170\"/>\n<text text-anchor=\"middle\" x=\"385.5\" y=\"-154.8\" font-family=\"Helvetica,sans-Serif\" font-size=\"14.00\">Average Dissolved Oxygen &lt;= 11.045</text>\n<text text-anchor=\"middle\" x=\"385.5\" y=\"-139.8\" font-family=\"Helvetica,sans-Serif\" font-size=\"14.00\">squared_error = 0.019</text>\n<text text-anchor=\"middle\" x=\"385.5\" y=\"-124.8\" font-family=\"Helvetica,sans-Serif\" font-size=\"14.00\">samples = 6</text>\n<text text-anchor=\"middle\" x=\"385.5\" y=\"-109.8\" font-family=\"Helvetica,sans-Serif\" font-size=\"14.00\">value = [[11.021]</text>\n<text text-anchor=\"middle\" x=\"385.5\" y=\"-94.8\" font-family=\"Helvetica,sans-Serif\" font-size=\"14.00\">[11.051]</text>\n<text text-anchor=\"middle\" x=\"385.5\" y=\"-79.8\" font-family=\"Helvetica,sans-Serif\" font-size=\"14.00\">[10.08]]</text>\n</g>\n<!-- 2&#45;&gt;14 -->\n<g id=\"edge6\" class=\"edge\">\n<title>2&#45;&gt;14</title>\n<path fill=\"none\" stroke=\"black\" d=\"M385.5,-205.97C385.5,-197.69 385.5,-189 385.5,-180.48\"/>\n<polygon fill=\"black\" stroke=\"black\" points=\"389,-180.21 385.5,-170.21 382,-180.21 389,-180.21\"/>\n</g>\n<!-- 4 -->\n<g id=\"node5\" class=\"node\">\n<title>4</title>\n<path fill=\"#c0c0c0\" stroke=\"black\" d=\"M101.5,-36C101.5,-36 71.5,-36 71.5,-36 65.5,-36 59.5,-30 59.5,-24 59.5,-24 59.5,-12 59.5,-12 59.5,-6 65.5,0 71.5,0 71.5,0 101.5,0 101.5,0 107.5,0 113.5,-6 113.5,-12 113.5,-12 113.5,-24 113.5,-24 113.5,-30 107.5,-36 101.5,-36\"/>\n<text text-anchor=\"middle\" x=\"86.5\" y=\"-14.3\" font-family=\"Helvetica,sans-Serif\" font-size=\"14.00\">(...)</text>\n</g>\n<!-- 3&#45;&gt;4 -->\n<g id=\"edge4\" class=\"edge\">\n<title>3&#45;&gt;4</title>\n<path fill=\"none\" stroke=\"black\" d=\"M105.34,-71.87C102.13,-62.86 98.89,-53.76 96.02,-45.71\"/>\n<polygon fill=\"black\" stroke=\"black\" points=\"99.27,-44.39 92.61,-36.15 92.67,-46.74 99.27,-44.39\"/>\n</g>\n<!-- 11 -->\n<g id=\"node6\" class=\"node\">\n<title>11</title>\n<path fill=\"#c0c0c0\" stroke=\"black\" d=\"M173.5,-36C173.5,-36 143.5,-36 143.5,-36 137.5,-36 131.5,-30 131.5,-24 131.5,-24 131.5,-12 131.5,-12 131.5,-6 137.5,0 143.5,0 143.5,0 173.5,0 173.5,0 179.5,0 185.5,-6 185.5,-12 185.5,-12 185.5,-24 185.5,-24 185.5,-30 179.5,-36 173.5,-36\"/>\n<text text-anchor=\"middle\" x=\"158.5\" y=\"-14.3\" font-family=\"Helvetica,sans-Serif\" font-size=\"14.00\">(...)</text>\n</g>\n<!-- 3&#45;&gt;11 -->\n<g id=\"edge5\" class=\"edge\">\n<title>3&#45;&gt;11</title>\n<path fill=\"none\" stroke=\"black\" d=\"M139.66,-71.87C142.87,-62.86 146.11,-53.76 148.98,-45.71\"/>\n<polygon fill=\"black\" stroke=\"black\" points=\"152.33,-46.74 152.39,-36.15 145.73,-44.39 152.33,-46.74\"/>\n</g>\n<!-- 15 -->\n<g id=\"node8\" class=\"node\">\n<title>15</title>\n<path fill=\"#c0c0c0\" stroke=\"black\" d=\"M364.5,-36C364.5,-36 334.5,-36 334.5,-36 328.5,-36 322.5,-30 322.5,-24 322.5,-24 322.5,-12 322.5,-12 322.5,-6 328.5,0 334.5,0 334.5,0 364.5,0 364.5,0 370.5,0 376.5,-6 376.5,-12 376.5,-12 376.5,-24 376.5,-24 376.5,-30 370.5,-36 364.5,-36\"/>\n<text text-anchor=\"middle\" x=\"349.5\" y=\"-14.3\" font-family=\"Helvetica,sans-Serif\" font-size=\"14.00\">(...)</text>\n</g>\n<!-- 14&#45;&gt;15 -->\n<g id=\"edge7\" class=\"edge\">\n<title>14&#45;&gt;15</title>\n<path fill=\"none\" stroke=\"black\" d=\"M368.34,-71.87C365.13,-62.86 361.89,-53.76 359.02,-45.71\"/>\n<polygon fill=\"black\" stroke=\"black\" points=\"362.27,-44.39 355.61,-36.15 355.67,-46.74 362.27,-44.39\"/>\n</g>\n<!-- 22 -->\n<g id=\"node9\" class=\"node\">\n<title>22</title>\n<path fill=\"#c0c0c0\" stroke=\"black\" d=\"M436.5,-36C436.5,-36 406.5,-36 406.5,-36 400.5,-36 394.5,-30 394.5,-24 394.5,-24 394.5,-12 394.5,-12 394.5,-6 400.5,0 406.5,0 406.5,0 436.5,0 436.5,0 442.5,0 448.5,-6 448.5,-12 448.5,-12 448.5,-24 448.5,-24 448.5,-30 442.5,-36 436.5,-36\"/>\n<text text-anchor=\"middle\" x=\"421.5\" y=\"-14.3\" font-family=\"Helvetica,sans-Serif\" font-size=\"14.00\">(...)</text>\n</g>\n<!-- 14&#45;&gt;22 -->\n<g id=\"edge8\" class=\"edge\">\n<title>14&#45;&gt;22</title>\n<path fill=\"none\" stroke=\"black\" d=\"M402.66,-71.87C405.87,-62.86 409.11,-53.76 411.98,-45.71\"/>\n<polygon fill=\"black\" stroke=\"black\" points=\"415.33,-46.74 415.39,-36.15 408.73,-44.39 415.33,-46.74\"/>\n</g>\n<!-- 26 -->\n<g id=\"node11\" class=\"node\">\n<title>26</title>\n<path fill=\"#e58139\" stroke=\"black\" d=\"M650.5,-162.5C650.5,-162.5 538.5,-162.5 538.5,-162.5 532.5,-162.5 526.5,-156.5 526.5,-150.5 526.5,-150.5 526.5,-91.5 526.5,-91.5 526.5,-85.5 532.5,-79.5 538.5,-79.5 538.5,-79.5 650.5,-79.5 650.5,-79.5 656.5,-79.5 662.5,-85.5 662.5,-91.5 662.5,-91.5 662.5,-150.5 662.5,-150.5 662.5,-156.5 656.5,-162.5 650.5,-162.5\"/>\n<text text-anchor=\"middle\" x=\"594.5\" y=\"-147.3\" font-family=\"Helvetica,sans-Serif\" font-size=\"14.00\">squared_error = 0.0</text>\n<text text-anchor=\"middle\" x=\"594.5\" y=\"-132.3\" font-family=\"Helvetica,sans-Serif\" font-size=\"14.00\">samples = 1</text>\n<text text-anchor=\"middle\" x=\"594.5\" y=\"-117.3\" font-family=\"Helvetica,sans-Serif\" font-size=\"14.00\">value = [[10.397]</text>\n<text text-anchor=\"middle\" x=\"594.5\" y=\"-102.3\" font-family=\"Helvetica,sans-Serif\" font-size=\"14.00\">[10.747]</text>\n<text text-anchor=\"middle\" x=\"594.5\" y=\"-87.3\" font-family=\"Helvetica,sans-Serif\" font-size=\"14.00\">[9.68]]</text>\n</g>\n<!-- 25&#45;&gt;26 -->\n<g id=\"edge10\" class=\"edge\">\n<title>25&#45;&gt;26</title>\n<path fill=\"none\" stroke=\"black\" d=\"M660.02,-205.97C651.14,-194.58 641.65,-182.42 632.73,-170.99\"/>\n<polygon fill=\"black\" stroke=\"black\" points=\"635.26,-168.55 626.35,-162.82 629.74,-172.85 635.26,-168.55\"/>\n</g>\n<!-- 27 -->\n<g id=\"node12\" class=\"node\">\n<title>27</title>\n<path fill=\"#e58139\" stroke=\"black\" d=\"M808.5,-162.5C808.5,-162.5 692.5,-162.5 692.5,-162.5 686.5,-162.5 680.5,-156.5 680.5,-150.5 680.5,-150.5 680.5,-91.5 680.5,-91.5 680.5,-85.5 686.5,-79.5 692.5,-79.5 692.5,-79.5 808.5,-79.5 808.5,-79.5 814.5,-79.5 820.5,-85.5 820.5,-91.5 820.5,-91.5 820.5,-150.5 820.5,-150.5 820.5,-156.5 814.5,-162.5 808.5,-162.5\"/>\n<text text-anchor=\"middle\" x=\"750.5\" y=\"-147.3\" font-family=\"Helvetica,sans-Serif\" font-size=\"14.00\">squared_error = &#45;0.0</text>\n<text text-anchor=\"middle\" x=\"750.5\" y=\"-132.3\" font-family=\"Helvetica,sans-Serif\" font-size=\"14.00\">samples = 1</text>\n<text text-anchor=\"middle\" x=\"750.5\" y=\"-117.3\" font-family=\"Helvetica,sans-Serif\" font-size=\"14.00\">value = [[10.278]</text>\n<text text-anchor=\"middle\" x=\"750.5\" y=\"-102.3\" font-family=\"Helvetica,sans-Serif\" font-size=\"14.00\">[10.806]</text>\n<text text-anchor=\"middle\" x=\"750.5\" y=\"-87.3\" font-family=\"Helvetica,sans-Serif\" font-size=\"14.00\">[9.417]]</text>\n</g>\n<!-- 25&#45;&gt;27 -->\n<g id=\"edge11\" class=\"edge\">\n<title>25&#45;&gt;27</title>\n<path fill=\"none\" stroke=\"black\" d=\"M716.78,-205.97C721.18,-195.02 725.86,-183.36 730.29,-172.32\"/>\n<polygon fill=\"black\" stroke=\"black\" points=\"733.63,-173.4 734.11,-162.82 727.14,-170.79 733.63,-173.4\"/>\n</g>\n<!-- 29 -->\n<g id=\"node14\" class=\"node\">\n<title>29</title>\n<path fill=\"#efb489\" stroke=\"black\" d=\"M1106.5,-304C1106.5,-304 892.5,-304 892.5,-304 886.5,-304 880.5,-298 880.5,-292 880.5,-292 880.5,-218 880.5,-218 880.5,-212 886.5,-206 892.5,-206 892.5,-206 1106.5,-206 1106.5,-206 1112.5,-206 1118.5,-212 1118.5,-218 1118.5,-218 1118.5,-292 1118.5,-292 1118.5,-298 1112.5,-304 1106.5,-304\"/>\n<text text-anchor=\"middle\" x=\"999.5\" y=\"-288.8\" font-family=\"Helvetica,sans-Serif\" font-size=\"14.00\">Average Dissolved Oxygen &lt;= 10.04</text>\n<text text-anchor=\"middle\" x=\"999.5\" y=\"-273.8\" font-family=\"Helvetica,sans-Serif\" font-size=\"14.00\">squared_error = 0.049</text>\n<text text-anchor=\"middle\" x=\"999.5\" y=\"-258.8\" font-family=\"Helvetica,sans-Serif\" font-size=\"14.00\">samples = 13</text>\n<text text-anchor=\"middle\" x=\"999.5\" y=\"-243.8\" font-family=\"Helvetica,sans-Serif\" font-size=\"14.00\">value = [[10.38]</text>\n<text text-anchor=\"middle\" x=\"999.5\" y=\"-228.8\" font-family=\"Helvetica,sans-Serif\" font-size=\"14.00\">[10.714]</text>\n<text text-anchor=\"middle\" x=\"999.5\" y=\"-213.8\" font-family=\"Helvetica,sans-Serif\" font-size=\"14.00\">[11.05]]</text>\n</g>\n<!-- 28&#45;&gt;29 -->\n<g id=\"edge13\" class=\"edge\">\n<title>28&#45;&gt;29</title>\n<path fill=\"none\" stroke=\"black\" d=\"M999.5,-339.97C999.5,-331.69 999.5,-323 999.5,-314.48\"/>\n<polygon fill=\"black\" stroke=\"black\" points=\"1003,-314.21 999.5,-304.21 996,-314.21 1003,-314.21\"/>\n</g>\n<!-- 54 -->\n<g id=\"node21\" class=\"node\">\n<title>54</title>\n<path fill=\"#f0b78e\" stroke=\"black\" d=\"M1527,-304C1527,-304 1234,-304 1234,-304 1228,-304 1222,-298 1222,-292 1222,-292 1222,-218 1222,-218 1222,-212 1228,-206 1234,-206 1234,-206 1527,-206 1527,-206 1533,-206 1539,-212 1539,-218 1539,-218 1539,-292 1539,-292 1539,-298 1533,-304 1527,-304\"/>\n<text text-anchor=\"middle\" x=\"1380.5\" y=\"-288.8\" font-family=\"Helvetica,sans-Serif\" font-size=\"14.00\">Average Specific Conductance μS/cm &lt;= 136.014</text>\n<text text-anchor=\"middle\" x=\"1380.5\" y=\"-273.8\" font-family=\"Helvetica,sans-Serif\" font-size=\"14.00\">squared_error = 0.052</text>\n<text text-anchor=\"middle\" x=\"1380.5\" y=\"-258.8\" font-family=\"Helvetica,sans-Serif\" font-size=\"14.00\">samples = 20</text>\n<text text-anchor=\"middle\" x=\"1380.5\" y=\"-243.8\" font-family=\"Helvetica,sans-Serif\" font-size=\"14.00\">value = [[10.815]</text>\n<text text-anchor=\"middle\" x=\"1380.5\" y=\"-228.8\" font-family=\"Helvetica,sans-Serif\" font-size=\"14.00\">[10.782]</text>\n<text text-anchor=\"middle\" x=\"1380.5\" y=\"-213.8\" font-family=\"Helvetica,sans-Serif\" font-size=\"14.00\">[10.648]]</text>\n</g>\n<!-- 28&#45;&gt;54 -->\n<g id=\"edge20\" class=\"edge\">\n<title>28&#45;&gt;54</title>\n<path fill=\"none\" stroke=\"black\" d=\"M1122.15,-345.51C1157.19,-333.37 1195.76,-320 1232.17,-307.39\"/>\n<polygon fill=\"black\" stroke=\"black\" points=\"1233.57,-310.61 1241.87,-304.03 1231.28,-303.99 1233.57,-310.61\"/>\n</g>\n<!-- 30 -->\n<g id=\"node15\" class=\"node\">\n<title>30</title>\n<path fill=\"#e99254\" stroke=\"black\" d=\"M1044.5,-170C1044.5,-170 850.5,-170 850.5,-170 844.5,-170 838.5,-164 838.5,-158 838.5,-158 838.5,-84 838.5,-84 838.5,-78 844.5,-72 850.5,-72 850.5,-72 1044.5,-72 1044.5,-72 1050.5,-72 1056.5,-78 1056.5,-84 1056.5,-84 1056.5,-158 1056.5,-158 1056.5,-164 1050.5,-170 1044.5,-170\"/>\n<text text-anchor=\"middle\" x=\"947.5\" y=\"-154.8\" font-family=\"Helvetica,sans-Serif\" font-size=\"14.00\">Average Temperature C &lt;= 7.513</text>\n<text text-anchor=\"middle\" x=\"947.5\" y=\"-139.8\" font-family=\"Helvetica,sans-Serif\" font-size=\"14.00\">squared_error = 0.017</text>\n<text text-anchor=\"middle\" x=\"947.5\" y=\"-124.8\" font-family=\"Helvetica,sans-Serif\" font-size=\"14.00\">samples = 4</text>\n<text text-anchor=\"middle\" x=\"947.5\" y=\"-109.8\" font-family=\"Helvetica,sans-Serif\" font-size=\"14.00\">value = [[9.934]</text>\n<text text-anchor=\"middle\" x=\"947.5\" y=\"-94.8\" font-family=\"Helvetica,sans-Serif\" font-size=\"14.00\">[10.59]</text>\n<text text-anchor=\"middle\" x=\"947.5\" y=\"-79.8\" font-family=\"Helvetica,sans-Serif\" font-size=\"14.00\">[11.292]]</text>\n</g>\n<!-- 29&#45;&gt;30 -->\n<g id=\"edge14\" class=\"edge\">\n<title>29&#45;&gt;30</title>\n<path fill=\"none\" stroke=\"black\" d=\"M980.58,-205.97C977.21,-197.42 973.67,-188.43 970.21,-179.64\"/>\n<polygon fill=\"black\" stroke=\"black\" points=\"973.42,-178.24 966.49,-170.21 966.9,-180.8 973.42,-178.24\"/>\n</g>\n<!-- 37 -->\n<g id=\"node18\" class=\"node\">\n<title>37</title>\n<path fill=\"#eb9d65\" stroke=\"black\" d=\"M1274,-170C1274,-170 1087,-170 1087,-170 1081,-170 1075,-164 1075,-158 1075,-158 1075,-84 1075,-84 1075,-78 1081,-72 1087,-72 1087,-72 1274,-72 1274,-72 1280,-72 1286,-78 1286,-84 1286,-84 1286,-158 1286,-158 1286,-164 1280,-170 1274,-170\"/>\n<text text-anchor=\"middle\" x=\"1180.5\" y=\"-154.8\" font-family=\"Helvetica,sans-Serif\" font-size=\"14.00\">Average Temperature C &lt;= 7.55</text>\n<text text-anchor=\"middle\" x=\"1180.5\" y=\"-139.8\" font-family=\"Helvetica,sans-Serif\" font-size=\"14.00\">squared_error = 0.027</text>\n<text text-anchor=\"middle\" x=\"1180.5\" y=\"-124.8\" font-family=\"Helvetica,sans-Serif\" font-size=\"14.00\">samples = 9</text>\n<text text-anchor=\"middle\" x=\"1180.5\" y=\"-109.8\" font-family=\"Helvetica,sans-Serif\" font-size=\"14.00\">value = [[10.499]</text>\n<text text-anchor=\"middle\" x=\"1180.5\" y=\"-94.8\" font-family=\"Helvetica,sans-Serif\" font-size=\"14.00\">[10.747]</text>\n<text text-anchor=\"middle\" x=\"1180.5\" y=\"-79.8\" font-family=\"Helvetica,sans-Serif\" font-size=\"14.00\">[10.985]]</text>\n</g>\n<!-- 29&#45;&gt;37 -->\n<g id=\"edge17\" class=\"edge\">\n<title>29&#45;&gt;37</title>\n<path fill=\"none\" stroke=\"black\" d=\"M1065.36,-205.97C1078.58,-196.33 1092.57,-186.13 1106.06,-176.29\"/>\n<polygon fill=\"black\" stroke=\"black\" points=\"1108.37,-178.93 1114.39,-170.21 1104.25,-173.28 1108.37,-178.93\"/>\n</g>\n<!-- 31 -->\n<g id=\"node16\" class=\"node\">\n<title>31</title>\n<path fill=\"#c0c0c0\" stroke=\"black\" d=\"M926.5,-36C926.5,-36 896.5,-36 896.5,-36 890.5,-36 884.5,-30 884.5,-24 884.5,-24 884.5,-12 884.5,-12 884.5,-6 890.5,0 896.5,0 896.5,0 926.5,0 926.5,0 932.5,0 938.5,-6 938.5,-12 938.5,-12 938.5,-24 938.5,-24 938.5,-30 932.5,-36 926.5,-36\"/>\n<text text-anchor=\"middle\" x=\"911.5\" y=\"-14.3\" font-family=\"Helvetica,sans-Serif\" font-size=\"14.00\">(...)</text>\n</g>\n<!-- 30&#45;&gt;31 -->\n<g id=\"edge15\" class=\"edge\">\n<title>30&#45;&gt;31</title>\n<path fill=\"none\" stroke=\"black\" d=\"M930.34,-71.87C927.13,-62.86 923.89,-53.76 921.02,-45.71\"/>\n<polygon fill=\"black\" stroke=\"black\" points=\"924.27,-44.39 917.61,-36.15 917.67,-46.74 924.27,-44.39\"/>\n</g>\n<!-- 32 -->\n<g id=\"node17\" class=\"node\">\n<title>32</title>\n<path fill=\"#c0c0c0\" stroke=\"black\" d=\"M998.5,-36C998.5,-36 968.5,-36 968.5,-36 962.5,-36 956.5,-30 956.5,-24 956.5,-24 956.5,-12 956.5,-12 956.5,-6 962.5,0 968.5,0 968.5,0 998.5,0 998.5,0 1004.5,0 1010.5,-6 1010.5,-12 1010.5,-12 1010.5,-24 1010.5,-24 1010.5,-30 1004.5,-36 998.5,-36\"/>\n<text text-anchor=\"middle\" x=\"983.5\" y=\"-14.3\" font-family=\"Helvetica,sans-Serif\" font-size=\"14.00\">(...)</text>\n</g>\n<!-- 30&#45;&gt;32 -->\n<g id=\"edge16\" class=\"edge\">\n<title>30&#45;&gt;32</title>\n<path fill=\"none\" stroke=\"black\" d=\"M964.66,-71.87C967.87,-62.86 971.11,-53.76 973.98,-45.71\"/>\n<polygon fill=\"black\" stroke=\"black\" points=\"977.33,-46.74 977.39,-36.15 970.73,-44.39 977.33,-46.74\"/>\n</g>\n<!-- 38 -->\n<g id=\"node19\" class=\"node\">\n<title>38</title>\n<path fill=\"#c0c0c0\" stroke=\"black\" d=\"M1151.5,-36C1151.5,-36 1121.5,-36 1121.5,-36 1115.5,-36 1109.5,-30 1109.5,-24 1109.5,-24 1109.5,-12 1109.5,-12 1109.5,-6 1115.5,0 1121.5,0 1121.5,0 1151.5,0 1151.5,0 1157.5,0 1163.5,-6 1163.5,-12 1163.5,-12 1163.5,-24 1163.5,-24 1163.5,-30 1157.5,-36 1151.5,-36\"/>\n<text text-anchor=\"middle\" x=\"1136.5\" y=\"-14.3\" font-family=\"Helvetica,sans-Serif\" font-size=\"14.00\">(...)</text>\n</g>\n<!-- 37&#45;&gt;38 -->\n<g id=\"edge18\" class=\"edge\">\n<title>37&#45;&gt;38</title>\n<path fill=\"none\" stroke=\"black\" d=\"M1159.53,-71.87C1155.57,-62.76 1151.56,-53.56 1148.02,-45.44\"/>\n<polygon fill=\"black\" stroke=\"black\" points=\"1151.17,-43.92 1143.97,-36.15 1144.76,-46.71 1151.17,-43.92\"/>\n</g>\n<!-- 45 -->\n<g id=\"node20\" class=\"node\">\n<title>45</title>\n<path fill=\"#c0c0c0\" stroke=\"black\" d=\"M1223.5,-36C1223.5,-36 1193.5,-36 1193.5,-36 1187.5,-36 1181.5,-30 1181.5,-24 1181.5,-24 1181.5,-12 1181.5,-12 1181.5,-6 1187.5,0 1193.5,0 1193.5,0 1223.5,0 1223.5,0 1229.5,0 1235.5,-6 1235.5,-12 1235.5,-12 1235.5,-24 1235.5,-24 1235.5,-30 1229.5,-36 1223.5,-36\"/>\n<text text-anchor=\"middle\" x=\"1208.5\" y=\"-14.3\" font-family=\"Helvetica,sans-Serif\" font-size=\"14.00\">(...)</text>\n</g>\n<!-- 37&#45;&gt;45 -->\n<g id=\"edge19\" class=\"edge\">\n<title>37&#45;&gt;45</title>\n<path fill=\"none\" stroke=\"black\" d=\"M1193.84,-71.87C1196.31,-62.96 1198.81,-53.96 1201.02,-45.97\"/>\n<polygon fill=\"black\" stroke=\"black\" points=\"1204.45,-46.72 1203.75,-36.15 1197.7,-44.85 1204.45,-46.72\"/>\n</g>\n<!-- 55 -->\n<g id=\"node22\" class=\"node\">\n<title>55</title>\n<path fill=\"#efb285\" stroke=\"black\" d=\"M1445,-170C1445,-170 1316,-170 1316,-170 1310,-170 1304,-164 1304,-158 1304,-158 1304,-84 1304,-84 1304,-78 1310,-72 1316,-72 1316,-72 1445,-72 1445,-72 1451,-72 1457,-78 1457,-84 1457,-84 1457,-158 1457,-158 1457,-164 1451,-170 1445,-170\"/>\n<text text-anchor=\"middle\" x=\"1380.5\" y=\"-154.8\" font-family=\"Helvetica,sans-Serif\" font-size=\"14.00\">Average pH &lt;= 26.134</text>\n<text text-anchor=\"middle\" x=\"1380.5\" y=\"-139.8\" font-family=\"Helvetica,sans-Serif\" font-size=\"14.00\">squared_error = 0.047</text>\n<text text-anchor=\"middle\" x=\"1380.5\" y=\"-124.8\" font-family=\"Helvetica,sans-Serif\" font-size=\"14.00\">samples = 12</text>\n<text text-anchor=\"middle\" x=\"1380.5\" y=\"-109.8\" font-family=\"Helvetica,sans-Serif\" font-size=\"14.00\">value = [[10.763]</text>\n<text text-anchor=\"middle\" x=\"1380.5\" y=\"-94.8\" font-family=\"Helvetica,sans-Serif\" font-size=\"14.00\">[10.588]</text>\n<text text-anchor=\"middle\" x=\"1380.5\" y=\"-79.8\" font-family=\"Helvetica,sans-Serif\" font-size=\"14.00\">[10.541]]</text>\n</g>\n<!-- 54&#45;&gt;55 -->\n<g id=\"edge21\" class=\"edge\">\n<title>54&#45;&gt;55</title>\n<path fill=\"none\" stroke=\"black\" d=\"M1380.5,-205.97C1380.5,-197.69 1380.5,-189 1380.5,-180.48\"/>\n<polygon fill=\"black\" stroke=\"black\" points=\"1384,-180.21 1380.5,-170.21 1377,-180.21 1384,-180.21\"/>\n</g>\n<!-- 78 -->\n<g id=\"node25\" class=\"node\">\n<title>78</title>\n<path fill=\"#e78d4c\" stroke=\"black\" d=\"M1746,-170C1746,-170 1487,-170 1487,-170 1481,-170 1475,-164 1475,-158 1475,-158 1475,-84 1475,-84 1475,-78 1481,-72 1487,-72 1487,-72 1746,-72 1746,-72 1752,-72 1758,-78 1758,-84 1758,-84 1758,-158 1758,-158 1758,-164 1752,-170 1746,-170\"/>\n<text text-anchor=\"middle\" x=\"1616.5\" y=\"-154.8\" font-family=\"Helvetica,sans-Serif\" font-size=\"14.00\">Average Specific Conductance μS/cm &lt;= inf</text>\n<text text-anchor=\"middle\" x=\"1616.5\" y=\"-139.8\" font-family=\"Helvetica,sans-Serif\" font-size=\"14.00\">squared_error = 0.012</text>\n<text text-anchor=\"middle\" x=\"1616.5\" y=\"-124.8\" font-family=\"Helvetica,sans-Serif\" font-size=\"14.00\">samples = 8</text>\n<text text-anchor=\"middle\" x=\"1616.5\" y=\"-109.8\" font-family=\"Helvetica,sans-Serif\" font-size=\"14.00\">value = [[10.879]</text>\n<text text-anchor=\"middle\" x=\"1616.5\" y=\"-94.8\" font-family=\"Helvetica,sans-Serif\" font-size=\"14.00\">[11.02]</text>\n<text text-anchor=\"middle\" x=\"1616.5\" y=\"-79.8\" font-family=\"Helvetica,sans-Serif\" font-size=\"14.00\">[10.779]]</text>\n</g>\n<!-- 54&#45;&gt;78 -->\n<g id=\"edge24\" class=\"edge\">\n<title>54&#45;&gt;78</title>\n<path fill=\"none\" stroke=\"black\" d=\"M1466.37,-205.97C1484.26,-195.96 1503.23,-185.36 1521.43,-175.17\"/>\n<polygon fill=\"black\" stroke=\"black\" points=\"1523.28,-178.15 1530.3,-170.21 1519.86,-172.04 1523.28,-178.15\"/>\n</g>\n<!-- 56 -->\n<g id=\"node23\" class=\"node\">\n<title>56</title>\n<path fill=\"#c0c0c0\" stroke=\"black\" d=\"M1359.5,-36C1359.5,-36 1329.5,-36 1329.5,-36 1323.5,-36 1317.5,-30 1317.5,-24 1317.5,-24 1317.5,-12 1317.5,-12 1317.5,-6 1323.5,0 1329.5,0 1329.5,0 1359.5,0 1359.5,0 1365.5,0 1371.5,-6 1371.5,-12 1371.5,-12 1371.5,-24 1371.5,-24 1371.5,-30 1365.5,-36 1359.5,-36\"/>\n<text text-anchor=\"middle\" x=\"1344.5\" y=\"-14.3\" font-family=\"Helvetica,sans-Serif\" font-size=\"14.00\">(...)</text>\n</g>\n<!-- 55&#45;&gt;56 -->\n<g id=\"edge22\" class=\"edge\">\n<title>55&#45;&gt;56</title>\n<path fill=\"none\" stroke=\"black\" d=\"M1363.34,-71.87C1360.13,-62.86 1356.89,-53.76 1354.02,-45.71\"/>\n<polygon fill=\"black\" stroke=\"black\" points=\"1357.27,-44.39 1350.61,-36.15 1350.67,-46.74 1357.27,-44.39\"/>\n</g>\n<!-- 57 -->\n<g id=\"node24\" class=\"node\">\n<title>57</title>\n<path fill=\"#c0c0c0\" stroke=\"black\" d=\"M1431.5,-36C1431.5,-36 1401.5,-36 1401.5,-36 1395.5,-36 1389.5,-30 1389.5,-24 1389.5,-24 1389.5,-12 1389.5,-12 1389.5,-6 1395.5,0 1401.5,0 1401.5,0 1431.5,0 1431.5,0 1437.5,0 1443.5,-6 1443.5,-12 1443.5,-12 1443.5,-24 1443.5,-24 1443.5,-30 1437.5,-36 1431.5,-36\"/>\n<text text-anchor=\"middle\" x=\"1416.5\" y=\"-14.3\" font-family=\"Helvetica,sans-Serif\" font-size=\"14.00\">(...)</text>\n</g>\n<!-- 55&#45;&gt;57 -->\n<g id=\"edge23\" class=\"edge\">\n<title>55&#45;&gt;57</title>\n<path fill=\"none\" stroke=\"black\" d=\"M1397.66,-71.87C1400.87,-62.86 1404.11,-53.76 1406.98,-45.71\"/>\n<polygon fill=\"black\" stroke=\"black\" points=\"1410.33,-46.74 1410.39,-36.15 1403.73,-44.39 1410.33,-46.74\"/>\n</g>\n<!-- 79 -->\n<g id=\"node26\" class=\"node\">\n<title>79</title>\n<path fill=\"#c0c0c0\" stroke=\"black\" d=\"M1595.5,-36C1595.5,-36 1565.5,-36 1565.5,-36 1559.5,-36 1553.5,-30 1553.5,-24 1553.5,-24 1553.5,-12 1553.5,-12 1553.5,-6 1559.5,0 1565.5,0 1565.5,0 1595.5,0 1595.5,0 1601.5,0 1607.5,-6 1607.5,-12 1607.5,-12 1607.5,-24 1607.5,-24 1607.5,-30 1601.5,-36 1595.5,-36\"/>\n<text text-anchor=\"middle\" x=\"1580.5\" y=\"-14.3\" font-family=\"Helvetica,sans-Serif\" font-size=\"14.00\">(...)</text>\n</g>\n<!-- 78&#45;&gt;79 -->\n<g id=\"edge25\" class=\"edge\">\n<title>78&#45;&gt;79</title>\n<path fill=\"none\" stroke=\"black\" d=\"M1599.34,-71.87C1596.13,-62.86 1592.89,-53.76 1590.02,-45.71\"/>\n<polygon fill=\"black\" stroke=\"black\" points=\"1593.27,-44.39 1586.61,-36.15 1586.67,-46.74 1593.27,-44.39\"/>\n</g>\n<!-- 92 -->\n<g id=\"node27\" class=\"node\">\n<title>92</title>\n<path fill=\"#c0c0c0\" stroke=\"black\" d=\"M1667.5,-36C1667.5,-36 1637.5,-36 1637.5,-36 1631.5,-36 1625.5,-30 1625.5,-24 1625.5,-24 1625.5,-12 1625.5,-12 1625.5,-6 1631.5,0 1637.5,0 1637.5,0 1667.5,0 1667.5,0 1673.5,0 1679.5,-6 1679.5,-12 1679.5,-12 1679.5,-24 1679.5,-24 1679.5,-30 1673.5,-36 1667.5,-36\"/>\n<text text-anchor=\"middle\" x=\"1652.5\" y=\"-14.3\" font-family=\"Helvetica,sans-Serif\" font-size=\"14.00\">(...)</text>\n</g>\n<!-- 78&#45;&gt;92 -->\n<g id=\"edge26\" class=\"edge\">\n<title>78&#45;&gt;92</title>\n<path fill=\"none\" stroke=\"black\" d=\"M1633.66,-71.87C1636.87,-62.86 1640.11,-53.76 1642.98,-45.71\"/>\n<polygon fill=\"black\" stroke=\"black\" points=\"1646.33,-46.74 1646.39,-36.15 1639.73,-44.39 1646.33,-46.74\"/>\n</g>\n</g>\n</svg>\n",
            "text/plain": [
              "<graphviz.sources.Source at 0x79e5ebc1d350>"
            ]
          },
          "metadata": {},
          "execution_count": 23
        }
      ]
    },
    {
      "cell_type": "markdown",
      "source": [
        "Code Block 7C"
      ],
      "metadata": {
        "id": "MsFq22pBfL4S"
      }
    },
    {
      "cell_type": "code",
      "source": [
        "# Feature importance\n",
        "importances = model.feature_importances_\n",
        "indices = np.argsort(importances)\n",
        "\n",
        "# Plot feature importance\n",
        "plt.figure(figsize=(10, 6))\n",
        "plt.title('Feature Importances')\n",
        "plt.barh(range(len(indices)), importances[indices], color='b', align='center')\n",
        "plt.yticks(range(len(indices)), [feature_names[i] for i in indices])\n",
        "plt.xlabel('Relative Importance')\n",
        "plt.show()"
      ],
      "metadata": {
        "id": "JFsieAjl5Qzy",
        "colab": {
          "base_uri": "https://localhost:8080/",
          "height": 520
        },
        "outputId": "a246ee22-3be5-47c0-d3ee-5f6f9c7860ef"
      },
      "execution_count": 22,
      "outputs": [
        {
          "output_type": "display_data",
          "data": {
            "text/plain": [
              "<Figure size 1000x600 with 1 Axes>"
            ],
            "image/png": "[encoded data removed]"
          },
          "metadata": {}
        }
      ]
    }
  ]
}